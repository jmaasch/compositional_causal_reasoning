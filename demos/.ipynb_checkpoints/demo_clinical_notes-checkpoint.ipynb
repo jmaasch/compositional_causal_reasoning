{
 "cells": [
  {
   "cell_type": "markdown",
   "id": "843cf40c-b6a1-4c35-baed-af794fffa414",
   "metadata": {},
   "source": [
    "# Demo: Evaluation on ClinicalNotes v0\n",
    "\n",
    "Access data here: https://huggingface.co/datasets/jmaasch/compositional_causal_reasoning\n",
    "\n",
    "This demo provides a walk-through of:\n",
    "1. How to use the ClinicalNotes datasets for CCR evaluation.\n",
    "   - Standard metrics: F1, accuracy, precision, recall.\n",
    "   - Metrics for counterfactual reasoning evaluation: external validity RAE and internal consistency RAE.\n",
    "2. How to generate new random ClinicalNotes tasks.\n",
    "\n",
    "For more information on the counterfactual reasoning metrics, see [Maasch et al. 2025 (ICML)](https://arxiv.org/abs/2503.04556).\n",
    "\n",
    "Code by Jacqueline Maasch | April 2025"
   ]
  },
  {
   "cell_type": "code",
   "execution_count": 1,
   "id": "4d06b9a6-5b8a-4d90-92cd-21e6c2883aeb",
   "metadata": {},
   "outputs": [],
   "source": [
    "# General importations.\n",
    "import pandas as pd\n",
    "import numpy as np\n",
    "import os\n",
    "import sys\n",
    "from ast import literal_eval\n",
    "from sklearn.metrics import f1_score,precision_score,recall_score,accuracy_score\n",
    "\n",
    "sys.path.insert(1, os.path.join(sys.path[0], '..'))\n",
    "from utils import Utils\n",
    "from clinical_notes import ClinicalNotes"
   ]
  },
  {
   "cell_type": "code",
   "execution_count": 2,
   "id": "f029e6e1-4763-4c3f-8ebd-0a02d3b6ae61",
   "metadata": {},
   "outputs": [],
   "source": [
    "u = Utils()"
   ]
  },
  {
   "cell_type": "code",
   "execution_count": 3,
   "id": "66298bb7-6d24-486a-aa5e-82cdb9e9cc5e",
   "metadata": {},
   "outputs": [],
   "source": [
    "path = \"../static_datasets/clinical_notes_v0/\""
   ]
  },
  {
   "cell_type": "markdown",
   "id": "0b56acd6-49ec-430f-899a-ce57052e16f9",
   "metadata": {},
   "source": [
    "## Import static datasets"
   ]
  },
  {
   "cell_type": "code",
   "execution_count": 4,
   "id": "a1d89eb2-cda1-4ab1-b9e8-713a829ff5b4",
   "metadata": {},
   "outputs": [
    {
     "name": "stdout",
     "output_type": "stream",
     "text": [
      "<class 'pandas.core.frame.DataFrame'>\n",
      "RangeIndex: 120000 entries, 0 to 119999\n",
      "Data columns (total 19 columns):\n",
      " #   Column                                  Non-Null Count   Dtype  \n",
      "---  ------                                  --------------   -----  \n",
      " 0   Task ID                                 120000 non-null  float64\n",
      " 1   Context ID                              120000 non-null  int64  \n",
      " 2   Sample ID                               120000 non-null  int64  \n",
      " 3   Replicate ID                            120000 non-null  int64  \n",
      " 4   Nodes per BCC                           120000 non-null  object \n",
      " 5   DAG adjacency matrix                    120000 non-null  object \n",
      " 6   DAG nodes                               120000 non-null  object \n",
      " 7   CCT adjacency matrix                    120000 non-null  object \n",
      " 8   CCT nodes                               120000 non-null  object \n",
      " 9   Exogenous variables                     120000 non-null  object \n",
      " 10  Bernoulli parameters                    120000 non-null  object \n",
      " 11  Global quantity                         120000 non-null  object \n",
      " 12  Local quantities                        120000 non-null  object \n",
      " 13  Compositions                            120000 non-null  object \n",
      " 14  Causal context                          120000 non-null  object \n",
      " 15  Sample context                          120000 non-null  object \n",
      " 16  Factual queries                         120000 non-null  object \n",
      " 17  Counterfactual queries (cause = True)   120000 non-null  object \n",
      " 18  Counterfactual queries (cause = False)  120000 non-null  object \n",
      "dtypes: float64(1), int64(3), object(15)\n",
      "memory usage: 17.4+ MB\n",
      "None\n"
     ]
    },
    {
     "data": {
      "text/html": [
       "<div>\n",
       "<style scoped>\n",
       "    .dataframe tbody tr th:only-of-type {\n",
       "        vertical-align: middle;\n",
       "    }\n",
       "\n",
       "    .dataframe tbody tr th {\n",
       "        vertical-align: top;\n",
       "    }\n",
       "\n",
       "    .dataframe thead th {\n",
       "        text-align: right;\n",
       "    }\n",
       "</style>\n",
       "<table border=\"1\" class=\"dataframe\">\n",
       "  <thead>\n",
       "    <tr style=\"text-align: right;\">\n",
       "      <th></th>\n",
       "      <th>Task ID</th>\n",
       "      <th>Context ID</th>\n",
       "      <th>Sample ID</th>\n",
       "      <th>Replicate ID</th>\n",
       "      <th>Nodes per BCC</th>\n",
       "      <th>DAG adjacency matrix</th>\n",
       "      <th>DAG nodes</th>\n",
       "      <th>CCT adjacency matrix</th>\n",
       "      <th>CCT nodes</th>\n",
       "      <th>Exogenous variables</th>\n",
       "      <th>Bernoulli parameters</th>\n",
       "      <th>Global quantity</th>\n",
       "      <th>Local quantities</th>\n",
       "      <th>Compositions</th>\n",
       "      <th>Causal context</th>\n",
       "      <th>Sample context</th>\n",
       "      <th>Factual queries</th>\n",
       "      <th>Counterfactual queries (cause = True)</th>\n",
       "      <th>Counterfactual queries (cause = False)</th>\n",
       "    </tr>\n",
       "  </thead>\n",
       "  <tbody>\n",
       "    <tr>\n",
       "      <th>0</th>\n",
       "      <td>0.0</td>\n",
       "      <td>0</td>\n",
       "      <td>0</td>\n",
       "      <td>0</td>\n",
       "      <td>[3, 3]</td>\n",
       "      <td>[[0 1 1 0 0]\\n [0 0 1 0 0]\\n [0 0 0 1 1]\\n [0 ...</td>\n",
       "      <td>['pain', 'A2B4', 'MY0L', '2H6V', 'surgery']</td>\n",
       "      <td>[[0 1 1]\\n [0 0 1]\\n [0 0 0]]</td>\n",
       "      <td>['pain', 'MY0L', 'surgery']</td>\n",
       "      <td>['5IZI', 'VSYH', 'PQUP', 'E1N9', 'AA5P']</td>\n",
       "      <td>[0.5, 0.5, 0.5, 0.5, 0.5]</td>\n",
       "      <td>('pain', 'surgery')</td>\n",
       "      <td>[('pain', 'MY0L'), ('MY0L', 'surgery')]</td>\n",
       "      <td>[[('pain', 'MY0L'), ('MY0L', 'surgery')]]</td>\n",
       "      <td>Chronic disease Z4PQJD sometimes requires surg...</td>\n",
       "      <td>Now, we will review the history and physical n...</td>\n",
       "      <td>{'surgery': {'Prompt': 'Given these history an...</td>\n",
       "      <td>{('pain', 'surgery'): {'Prompt': 'Now suppose ...</td>\n",
       "      <td>{('pain', 'surgery'): {'Prompt': 'Now suppose ...</td>\n",
       "    </tr>\n",
       "    <tr>\n",
       "      <th>1</th>\n",
       "      <td>0.0</td>\n",
       "      <td>0</td>\n",
       "      <td>0</td>\n",
       "      <td>1</td>\n",
       "      <td>[3, 3]</td>\n",
       "      <td>[[0 1 1 0 0]\\n [0 0 1 0 0]\\n [0 0 0 1 1]\\n [0 ...</td>\n",
       "      <td>['pain', 'A2B4', 'MY0L', '2H6V', 'surgery']</td>\n",
       "      <td>[[0 1 1]\\n [0 0 1]\\n [0 0 0]]</td>\n",
       "      <td>['pain', 'MY0L', 'surgery']</td>\n",
       "      <td>['5IZI', 'VSYH', 'PQUP', 'E1N9', 'AA5P']</td>\n",
       "      <td>[0.5, 0.5, 0.5, 0.5, 0.5]</td>\n",
       "      <td>('pain', 'surgery')</td>\n",
       "      <td>[('pain', 'MY0L'), ('MY0L', 'surgery')]</td>\n",
       "      <td>[[('pain', 'MY0L'), ('MY0L', 'surgery')]]</td>\n",
       "      <td>Chronic disease Z4PQJD sometimes requires surg...</td>\n",
       "      <td>Now, we will review the history and physical n...</td>\n",
       "      <td>{'surgery': {'Prompt': 'Given these history an...</td>\n",
       "      <td>{('pain', 'surgery'): {'Prompt': 'Now suppose ...</td>\n",
       "      <td>{('pain', 'surgery'): {'Prompt': 'Now suppose ...</td>\n",
       "    </tr>\n",
       "    <tr>\n",
       "      <th>2</th>\n",
       "      <td>0.0</td>\n",
       "      <td>0</td>\n",
       "      <td>0</td>\n",
       "      <td>2</td>\n",
       "      <td>[3, 3]</td>\n",
       "      <td>[[0 1 1 0 0]\\n [0 0 1 0 0]\\n [0 0 0 1 1]\\n [0 ...</td>\n",
       "      <td>['pain', 'A2B4', 'MY0L', '2H6V', 'surgery']</td>\n",
       "      <td>[[0 1 1]\\n [0 0 1]\\n [0 0 0]]</td>\n",
       "      <td>['pain', 'MY0L', 'surgery']</td>\n",
       "      <td>['5IZI', 'VSYH', 'PQUP', 'E1N9', 'AA5P']</td>\n",
       "      <td>[0.5, 0.5, 0.5, 0.5, 0.5]</td>\n",
       "      <td>('pain', 'surgery')</td>\n",
       "      <td>[('pain', 'MY0L'), ('MY0L', 'surgery')]</td>\n",
       "      <td>[[('pain', 'MY0L'), ('MY0L', 'surgery')]]</td>\n",
       "      <td>Chronic disease Z4PQJD sometimes requires surg...</td>\n",
       "      <td>Now, we will review the history and physical n...</td>\n",
       "      <td>{'surgery': {'Prompt': 'Given these history an...</td>\n",
       "      <td>{('pain', 'surgery'): {'Prompt': 'Now suppose ...</td>\n",
       "      <td>{('pain', 'surgery'): {'Prompt': 'Now suppose ...</td>\n",
       "    </tr>\n",
       "    <tr>\n",
       "      <th>3</th>\n",
       "      <td>0.0</td>\n",
       "      <td>0</td>\n",
       "      <td>0</td>\n",
       "      <td>3</td>\n",
       "      <td>[3, 3]</td>\n",
       "      <td>[[0 1 1 0 0]\\n [0 0 1 0 0]\\n [0 0 0 1 1]\\n [0 ...</td>\n",
       "      <td>['pain', 'A2B4', 'MY0L', '2H6V', 'surgery']</td>\n",
       "      <td>[[0 1 1]\\n [0 0 1]\\n [0 0 0]]</td>\n",
       "      <td>['pain', 'MY0L', 'surgery']</td>\n",
       "      <td>['5IZI', 'VSYH', 'PQUP', 'E1N9', 'AA5P']</td>\n",
       "      <td>[0.5, 0.5, 0.5, 0.5, 0.5]</td>\n",
       "      <td>('pain', 'surgery')</td>\n",
       "      <td>[('pain', 'MY0L'), ('MY0L', 'surgery')]</td>\n",
       "      <td>[[('pain', 'MY0L'), ('MY0L', 'surgery')]]</td>\n",
       "      <td>Chronic disease Z4PQJD sometimes requires surg...</td>\n",
       "      <td>Now, we will review the history and physical n...</td>\n",
       "      <td>{'surgery': {'Prompt': 'Given these history an...</td>\n",
       "      <td>{('pain', 'surgery'): {'Prompt': 'Now suppose ...</td>\n",
       "      <td>{('pain', 'surgery'): {'Prompt': 'Now suppose ...</td>\n",
       "    </tr>\n",
       "    <tr>\n",
       "      <th>4</th>\n",
       "      <td>0.0</td>\n",
       "      <td>0</td>\n",
       "      <td>0</td>\n",
       "      <td>4</td>\n",
       "      <td>[3, 3]</td>\n",
       "      <td>[[0 1 1 0 0]\\n [0 0 1 0 0]\\n [0 0 0 1 1]\\n [0 ...</td>\n",
       "      <td>['pain', 'A2B4', 'MY0L', '2H6V', 'surgery']</td>\n",
       "      <td>[[0 1 1]\\n [0 0 1]\\n [0 0 0]]</td>\n",
       "      <td>['pain', 'MY0L', 'surgery']</td>\n",
       "      <td>['5IZI', 'VSYH', 'PQUP', 'E1N9', 'AA5P']</td>\n",
       "      <td>[0.5, 0.5, 0.5, 0.5, 0.5]</td>\n",
       "      <td>('pain', 'surgery')</td>\n",
       "      <td>[('pain', 'MY0L'), ('MY0L', 'surgery')]</td>\n",
       "      <td>[[('pain', 'MY0L'), ('MY0L', 'surgery')]]</td>\n",
       "      <td>Chronic disease Z4PQJD sometimes requires surg...</td>\n",
       "      <td>Now, we will review the history and physical n...</td>\n",
       "      <td>{'surgery': {'Prompt': 'Given these history an...</td>\n",
       "      <td>{('pain', 'surgery'): {'Prompt': 'Now suppose ...</td>\n",
       "      <td>{('pain', 'surgery'): {'Prompt': 'Now suppose ...</td>\n",
       "    </tr>\n",
       "  </tbody>\n",
       "</table>\n",
       "</div>"
      ],
      "text/plain": [
       "   Task ID  Context ID  Sample ID  Replicate ID Nodes per BCC  \\\n",
       "0      0.0           0          0             0        [3, 3]   \n",
       "1      0.0           0          0             1        [3, 3]   \n",
       "2      0.0           0          0             2        [3, 3]   \n",
       "3      0.0           0          0             3        [3, 3]   \n",
       "4      0.0           0          0             4        [3, 3]   \n",
       "\n",
       "                                DAG adjacency matrix  \\\n",
       "0  [[0 1 1 0 0]\\n [0 0 1 0 0]\\n [0 0 0 1 1]\\n [0 ...   \n",
       "1  [[0 1 1 0 0]\\n [0 0 1 0 0]\\n [0 0 0 1 1]\\n [0 ...   \n",
       "2  [[0 1 1 0 0]\\n [0 0 1 0 0]\\n [0 0 0 1 1]\\n [0 ...   \n",
       "3  [[0 1 1 0 0]\\n [0 0 1 0 0]\\n [0 0 0 1 1]\\n [0 ...   \n",
       "4  [[0 1 1 0 0]\\n [0 0 1 0 0]\\n [0 0 0 1 1]\\n [0 ...   \n",
       "\n",
       "                                     DAG nodes           CCT adjacency matrix  \\\n",
       "0  ['pain', 'A2B4', 'MY0L', '2H6V', 'surgery']  [[0 1 1]\\n [0 0 1]\\n [0 0 0]]   \n",
       "1  ['pain', 'A2B4', 'MY0L', '2H6V', 'surgery']  [[0 1 1]\\n [0 0 1]\\n [0 0 0]]   \n",
       "2  ['pain', 'A2B4', 'MY0L', '2H6V', 'surgery']  [[0 1 1]\\n [0 0 1]\\n [0 0 0]]   \n",
       "3  ['pain', 'A2B4', 'MY0L', '2H6V', 'surgery']  [[0 1 1]\\n [0 0 1]\\n [0 0 0]]   \n",
       "4  ['pain', 'A2B4', 'MY0L', '2H6V', 'surgery']  [[0 1 1]\\n [0 0 1]\\n [0 0 0]]   \n",
       "\n",
       "                     CCT nodes                       Exogenous variables  \\\n",
       "0  ['pain', 'MY0L', 'surgery']  ['5IZI', 'VSYH', 'PQUP', 'E1N9', 'AA5P']   \n",
       "1  ['pain', 'MY0L', 'surgery']  ['5IZI', 'VSYH', 'PQUP', 'E1N9', 'AA5P']   \n",
       "2  ['pain', 'MY0L', 'surgery']  ['5IZI', 'VSYH', 'PQUP', 'E1N9', 'AA5P']   \n",
       "3  ['pain', 'MY0L', 'surgery']  ['5IZI', 'VSYH', 'PQUP', 'E1N9', 'AA5P']   \n",
       "4  ['pain', 'MY0L', 'surgery']  ['5IZI', 'VSYH', 'PQUP', 'E1N9', 'AA5P']   \n",
       "\n",
       "        Bernoulli parameters      Global quantity  \\\n",
       "0  [0.5, 0.5, 0.5, 0.5, 0.5]  ('pain', 'surgery')   \n",
       "1  [0.5, 0.5, 0.5, 0.5, 0.5]  ('pain', 'surgery')   \n",
       "2  [0.5, 0.5, 0.5, 0.5, 0.5]  ('pain', 'surgery')   \n",
       "3  [0.5, 0.5, 0.5, 0.5, 0.5]  ('pain', 'surgery')   \n",
       "4  [0.5, 0.5, 0.5, 0.5, 0.5]  ('pain', 'surgery')   \n",
       "\n",
       "                          Local quantities  \\\n",
       "0  [('pain', 'MY0L'), ('MY0L', 'surgery')]   \n",
       "1  [('pain', 'MY0L'), ('MY0L', 'surgery')]   \n",
       "2  [('pain', 'MY0L'), ('MY0L', 'surgery')]   \n",
       "3  [('pain', 'MY0L'), ('MY0L', 'surgery')]   \n",
       "4  [('pain', 'MY0L'), ('MY0L', 'surgery')]   \n",
       "\n",
       "                                Compositions  \\\n",
       "0  [[('pain', 'MY0L'), ('MY0L', 'surgery')]]   \n",
       "1  [[('pain', 'MY0L'), ('MY0L', 'surgery')]]   \n",
       "2  [[('pain', 'MY0L'), ('MY0L', 'surgery')]]   \n",
       "3  [[('pain', 'MY0L'), ('MY0L', 'surgery')]]   \n",
       "4  [[('pain', 'MY0L'), ('MY0L', 'surgery')]]   \n",
       "\n",
       "                                      Causal context  \\\n",
       "0  Chronic disease Z4PQJD sometimes requires surg...   \n",
       "1  Chronic disease Z4PQJD sometimes requires surg...   \n",
       "2  Chronic disease Z4PQJD sometimes requires surg...   \n",
       "3  Chronic disease Z4PQJD sometimes requires surg...   \n",
       "4  Chronic disease Z4PQJD sometimes requires surg...   \n",
       "\n",
       "                                      Sample context  \\\n",
       "0  Now, we will review the history and physical n...   \n",
       "1  Now, we will review the history and physical n...   \n",
       "2  Now, we will review the history and physical n...   \n",
       "3  Now, we will review the history and physical n...   \n",
       "4  Now, we will review the history and physical n...   \n",
       "\n",
       "                                     Factual queries  \\\n",
       "0  {'surgery': {'Prompt': 'Given these history an...   \n",
       "1  {'surgery': {'Prompt': 'Given these history an...   \n",
       "2  {'surgery': {'Prompt': 'Given these history an...   \n",
       "3  {'surgery': {'Prompt': 'Given these history an...   \n",
       "4  {'surgery': {'Prompt': 'Given these history an...   \n",
       "\n",
       "               Counterfactual queries (cause = True)  \\\n",
       "0  {('pain', 'surgery'): {'Prompt': 'Now suppose ...   \n",
       "1  {('pain', 'surgery'): {'Prompt': 'Now suppose ...   \n",
       "2  {('pain', 'surgery'): {'Prompt': 'Now suppose ...   \n",
       "3  {('pain', 'surgery'): {'Prompt': 'Now suppose ...   \n",
       "4  {('pain', 'surgery'): {'Prompt': 'Now suppose ...   \n",
       "\n",
       "              Counterfactual queries (cause = False)  \n",
       "0  {('pain', 'surgery'): {'Prompt': 'Now suppose ...  \n",
       "1  {('pain', 'surgery'): {'Prompt': 'Now suppose ...  \n",
       "2  {('pain', 'surgery'): {'Prompt': 'Now suppose ...  \n",
       "3  {('pain', 'surgery'): {'Prompt': 'Now suppose ...  \n",
       "4  {('pain', 'surgery'): {'Prompt': 'Now suppose ...  "
      ]
     },
     "metadata": {},
     "output_type": "display_data"
    }
   ],
   "source": [
    "# Load raw data.\n",
    "df = pd.read_csv(path+\"clinical_notes_v0.csv\")\n",
    "print(df.info())\n",
    "display(df.head())"
   ]
  },
  {
   "cell_type": "code",
   "execution_count": 5,
   "id": "c3482a3a-b5b0-4266-9533-5cc79be842d2",
   "metadata": {},
   "outputs": [
    {
     "name": "stdout",
     "output_type": "stream",
     "text": [
      "[[0 1 1 0 0]\n",
      " [0 0 1 0 0]\n",
      " [0 0 0 1 1]\n",
      " [0 0 0 0 1]\n",
      " [0 0 0 0 0]]\n"
     ]
    }
   ],
   "source": [
    "# Convert adjacency matrices back to numpy arrays.\n",
    "def string_to_array(array_string):\n",
    "    cleaned_string = array_string.replace('\\n', '')\n",
    "    cleaned_string = cleaned_string.replace(' ', ', ')\n",
    "    new_list = literal_eval(cleaned_string)\n",
    "    return np.array(new_list)\n",
    "\n",
    "print(string_to_array(df[\"DAG adjacency matrix\"][0]))\n",
    "\n",
    "df[\"DAG adjacency matrix\"] = df[\"DAG adjacency matrix\"].apply(string_to_array)"
   ]
  },
  {
   "cell_type": "code",
   "execution_count": 6,
   "id": "47f55e48-f1b8-4669-952e-feaa50f96f35",
   "metadata": {},
   "outputs": [
    {
     "data": {
      "text/plain": [
       "Context ID\n",
       "0     10000\n",
       "1     10000\n",
       "2     10000\n",
       "3     10000\n",
       "4     10000\n",
       "5     10000\n",
       "6     10000\n",
       "7     10000\n",
       "8     10000\n",
       "9     10000\n",
       "10    10000\n",
       "11    10000\n",
       "Name: count, dtype: int64"
      ]
     },
     "execution_count": 6,
     "metadata": {},
     "output_type": "execute_result"
    }
   ],
   "source": [
    "# Total observations per Context ID.\n",
    "df[\"Context ID\"].value_counts()"
   ]
  },
  {
   "cell_type": "code",
   "execution_count": 7,
   "id": "fcd5e3e6-30ef-4fa0-b251-105e60557c63",
   "metadata": {},
   "outputs": [
    {
     "data": {
      "text/plain": [
       "Nodes per BCC\n",
       "[3, 3]       30000\n",
       "[3, 3, 3]    30000\n",
       "[4, 4]       30000\n",
       "[4, 4, 4]    30000\n",
       "Name: count, dtype: int64"
      ]
     },
     "execution_count": 7,
     "metadata": {},
     "output_type": "execute_result"
    }
   ],
   "source": [
    "# Total observations per graph size.\n",
    "df[\"Nodes per BCC\"].value_counts()"
   ]
  },
  {
   "cell_type": "code",
   "execution_count": 8,
   "id": "a9255ace-d655-45e1-8ebc-2d3432f5373c",
   "metadata": {},
   "outputs": [
    {
     "name": "stdout",
     "output_type": "stream",
     "text": [
      "<class 'pandas.core.frame.DataFrame'>\n",
      "RangeIndex: 300000 entries, 0 to 299999\n",
      "Data columns (total 8 columns):\n",
      " #   Column         Non-Null Count   Dtype  \n",
      "---  ------         --------------   -----  \n",
      " 0   Task ID        300000 non-null  float64\n",
      " 1   Context ID     300000 non-null  int64  \n",
      " 2   Sample ID      300000 non-null  int64  \n",
      " 3   Replicate ID   300000 non-null  int64  \n",
      " 4   Nodes per BCC  300000 non-null  object \n",
      " 5   Effect         300000 non-null  object \n",
      " 6   Prompt         300000 non-null  object \n",
      " 7   True           300000 non-null  int64  \n",
      "dtypes: float64(1), int64(4), object(3)\n",
      "memory usage: 18.3+ MB\n",
      "None\n"
     ]
    },
    {
     "data": {
      "text/html": [
       "<div>\n",
       "<style scoped>\n",
       "    .dataframe tbody tr th:only-of-type {\n",
       "        vertical-align: middle;\n",
       "    }\n",
       "\n",
       "    .dataframe tbody tr th {\n",
       "        vertical-align: top;\n",
       "    }\n",
       "\n",
       "    .dataframe thead th {\n",
       "        text-align: right;\n",
       "    }\n",
       "</style>\n",
       "<table border=\"1\" class=\"dataframe\">\n",
       "  <thead>\n",
       "    <tr style=\"text-align: right;\">\n",
       "      <th></th>\n",
       "      <th>Task ID</th>\n",
       "      <th>Context ID</th>\n",
       "      <th>Sample ID</th>\n",
       "      <th>Replicate ID</th>\n",
       "      <th>Nodes per BCC</th>\n",
       "      <th>Effect</th>\n",
       "      <th>Prompt</th>\n",
       "      <th>True</th>\n",
       "    </tr>\n",
       "  </thead>\n",
       "  <tbody>\n",
       "    <tr>\n",
       "      <th>0</th>\n",
       "      <td>0.0</td>\n",
       "      <td>0</td>\n",
       "      <td>0</td>\n",
       "      <td>0</td>\n",
       "      <td>[3, 3]</td>\n",
       "      <td>surgery</td>\n",
       "      <td>Chronic disease Z4PQJD sometimes requires surg...</td>\n",
       "      <td>1</td>\n",
       "    </tr>\n",
       "    <tr>\n",
       "      <th>1</th>\n",
       "      <td>0.0</td>\n",
       "      <td>0</td>\n",
       "      <td>0</td>\n",
       "      <td>0</td>\n",
       "      <td>[3, 3]</td>\n",
       "      <td>MY0L</td>\n",
       "      <td>Chronic disease Z4PQJD sometimes requires surg...</td>\n",
       "      <td>1</td>\n",
       "    </tr>\n",
       "    <tr>\n",
       "      <th>2</th>\n",
       "      <td>0.0</td>\n",
       "      <td>0</td>\n",
       "      <td>0</td>\n",
       "      <td>1</td>\n",
       "      <td>[3, 3]</td>\n",
       "      <td>surgery</td>\n",
       "      <td>Chronic disease Z4PQJD sometimes requires surg...</td>\n",
       "      <td>1</td>\n",
       "    </tr>\n",
       "    <tr>\n",
       "      <th>3</th>\n",
       "      <td>0.0</td>\n",
       "      <td>0</td>\n",
       "      <td>0</td>\n",
       "      <td>1</td>\n",
       "      <td>[3, 3]</td>\n",
       "      <td>MY0L</td>\n",
       "      <td>Chronic disease Z4PQJD sometimes requires surg...</td>\n",
       "      <td>1</td>\n",
       "    </tr>\n",
       "    <tr>\n",
       "      <th>4</th>\n",
       "      <td>0.0</td>\n",
       "      <td>0</td>\n",
       "      <td>0</td>\n",
       "      <td>2</td>\n",
       "      <td>[3, 3]</td>\n",
       "      <td>surgery</td>\n",
       "      <td>Chronic disease Z4PQJD sometimes requires surg...</td>\n",
       "      <td>1</td>\n",
       "    </tr>\n",
       "  </tbody>\n",
       "</table>\n",
       "</div>"
      ],
      "text/plain": [
       "   Task ID  Context ID  Sample ID  Replicate ID Nodes per BCC   Effect  \\\n",
       "0      0.0           0          0             0        [3, 3]  surgery   \n",
       "1      0.0           0          0             0        [3, 3]     MY0L   \n",
       "2      0.0           0          0             1        [3, 3]  surgery   \n",
       "3      0.0           0          0             1        [3, 3]     MY0L   \n",
       "4      0.0           0          0             2        [3, 3]  surgery   \n",
       "\n",
       "                                              Prompt  True  \n",
       "0  Chronic disease Z4PQJD sometimes requires surg...     1  \n",
       "1  Chronic disease Z4PQJD sometimes requires surg...     1  \n",
       "2  Chronic disease Z4PQJD sometimes requires surg...     1  \n",
       "3  Chronic disease Z4PQJD sometimes requires surg...     1  \n",
       "4  Chronic disease Z4PQJD sometimes requires surg...     1  "
      ]
     },
     "metadata": {},
     "output_type": "display_data"
    }
   ],
   "source": [
    "# Load factual prompts.\n",
    "df_f = pd.read_csv(path+\"clinical_notes_factual_v0.csv\")\n",
    "print(df_f.info())\n",
    "display(df_f.head())"
   ]
  },
  {
   "cell_type": "code",
   "execution_count": 9,
   "id": "a87f8b34-7188-42bc-a257-1ec455d99b84",
   "metadata": {},
   "outputs": [
    {
     "name": "stdout",
     "output_type": "stream",
     "text": [
      "<class 'pandas.core.frame.DataFrame'>\n",
      "RangeIndex: 540000 entries, 0 to 539999\n",
      "Data columns (total 12 columns):\n",
      " #   Column                  Non-Null Count   Dtype  \n",
      "---  ------                  --------------   -----  \n",
      " 0   Task ID                 540000 non-null  float64\n",
      " 1   Context ID              540000 non-null  int64  \n",
      " 2   Sample ID               540000 non-null  int64  \n",
      " 3   Replicate ID            540000 non-null  int64  \n",
      " 4   Nodes per BCC           540000 non-null  object \n",
      " 5   Cause-effect pair       540000 non-null  object \n",
      " 6   Cause                   540000 non-null  object \n",
      " 7   Effect                  540000 non-null  object \n",
      " 8   Prompt (cause = True)   540000 non-null  object \n",
      " 9   True (cause = True)     540000 non-null  int64  \n",
      " 10  Prompt (cause = False)  540000 non-null  object \n",
      " 11  True (cause = False)    540000 non-null  int64  \n",
      "dtypes: float64(1), int64(5), object(6)\n",
      "memory usage: 49.4+ MB\n",
      "None\n"
     ]
    },
    {
     "data": {
      "text/html": [
       "<div>\n",
       "<style scoped>\n",
       "    .dataframe tbody tr th:only-of-type {\n",
       "        vertical-align: middle;\n",
       "    }\n",
       "\n",
       "    .dataframe tbody tr th {\n",
       "        vertical-align: top;\n",
       "    }\n",
       "\n",
       "    .dataframe thead th {\n",
       "        text-align: right;\n",
       "    }\n",
       "</style>\n",
       "<table border=\"1\" class=\"dataframe\">\n",
       "  <thead>\n",
       "    <tr style=\"text-align: right;\">\n",
       "      <th></th>\n",
       "      <th>Task ID</th>\n",
       "      <th>Context ID</th>\n",
       "      <th>Sample ID</th>\n",
       "      <th>Replicate ID</th>\n",
       "      <th>Nodes per BCC</th>\n",
       "      <th>Cause-effect pair</th>\n",
       "      <th>Cause</th>\n",
       "      <th>Effect</th>\n",
       "      <th>Prompt (cause = True)</th>\n",
       "      <th>True (cause = True)</th>\n",
       "      <th>Prompt (cause = False)</th>\n",
       "      <th>True (cause = False)</th>\n",
       "    </tr>\n",
       "  </thead>\n",
       "  <tbody>\n",
       "    <tr>\n",
       "      <th>0</th>\n",
       "      <td>0.0</td>\n",
       "      <td>0</td>\n",
       "      <td>0</td>\n",
       "      <td>0</td>\n",
       "      <td>[3, 3]</td>\n",
       "      <td>('pain', 'surgery')</td>\n",
       "      <td>pain</td>\n",
       "      <td>surgery</td>\n",
       "      <td>Chronic disease Z4PQJD sometimes requires surg...</td>\n",
       "      <td>1</td>\n",
       "      <td>Chronic disease Z4PQJD sometimes requires surg...</td>\n",
       "      <td>1</td>\n",
       "    </tr>\n",
       "    <tr>\n",
       "      <th>1</th>\n",
       "      <td>0.0</td>\n",
       "      <td>0</td>\n",
       "      <td>0</td>\n",
       "      <td>0</td>\n",
       "      <td>[3, 3]</td>\n",
       "      <td>('pain', 'MY0L')</td>\n",
       "      <td>pain</td>\n",
       "      <td>MY0L</td>\n",
       "      <td>Chronic disease Z4PQJD sometimes requires surg...</td>\n",
       "      <td>1</td>\n",
       "      <td>Chronic disease Z4PQJD sometimes requires surg...</td>\n",
       "      <td>1</td>\n",
       "    </tr>\n",
       "    <tr>\n",
       "      <th>2</th>\n",
       "      <td>0.0</td>\n",
       "      <td>0</td>\n",
       "      <td>0</td>\n",
       "      <td>0</td>\n",
       "      <td>[3, 3]</td>\n",
       "      <td>('MY0L', 'surgery')</td>\n",
       "      <td>MY0L</td>\n",
       "      <td>surgery</td>\n",
       "      <td>Chronic disease Z4PQJD sometimes requires surg...</td>\n",
       "      <td>1</td>\n",
       "      <td>Chronic disease Z4PQJD sometimes requires surg...</td>\n",
       "      <td>0</td>\n",
       "    </tr>\n",
       "    <tr>\n",
       "      <th>3</th>\n",
       "      <td>0.0</td>\n",
       "      <td>0</td>\n",
       "      <td>0</td>\n",
       "      <td>1</td>\n",
       "      <td>[3, 3]</td>\n",
       "      <td>('pain', 'surgery')</td>\n",
       "      <td>pain</td>\n",
       "      <td>surgery</td>\n",
       "      <td>Chronic disease Z4PQJD sometimes requires surg...</td>\n",
       "      <td>1</td>\n",
       "      <td>Chronic disease Z4PQJD sometimes requires surg...</td>\n",
       "      <td>1</td>\n",
       "    </tr>\n",
       "    <tr>\n",
       "      <th>4</th>\n",
       "      <td>0.0</td>\n",
       "      <td>0</td>\n",
       "      <td>0</td>\n",
       "      <td>1</td>\n",
       "      <td>[3, 3]</td>\n",
       "      <td>('pain', 'MY0L')</td>\n",
       "      <td>pain</td>\n",
       "      <td>MY0L</td>\n",
       "      <td>Chronic disease Z4PQJD sometimes requires surg...</td>\n",
       "      <td>1</td>\n",
       "      <td>Chronic disease Z4PQJD sometimes requires surg...</td>\n",
       "      <td>1</td>\n",
       "    </tr>\n",
       "  </tbody>\n",
       "</table>\n",
       "</div>"
      ],
      "text/plain": [
       "   Task ID  Context ID  Sample ID  Replicate ID Nodes per BCC  \\\n",
       "0      0.0           0          0             0        [3, 3]   \n",
       "1      0.0           0          0             0        [3, 3]   \n",
       "2      0.0           0          0             0        [3, 3]   \n",
       "3      0.0           0          0             1        [3, 3]   \n",
       "4      0.0           0          0             1        [3, 3]   \n",
       "\n",
       "     Cause-effect pair Cause   Effect  \\\n",
       "0  ('pain', 'surgery')  pain  surgery   \n",
       "1     ('pain', 'MY0L')  pain     MY0L   \n",
       "2  ('MY0L', 'surgery')  MY0L  surgery   \n",
       "3  ('pain', 'surgery')  pain  surgery   \n",
       "4     ('pain', 'MY0L')  pain     MY0L   \n",
       "\n",
       "                               Prompt (cause = True)  True (cause = True)  \\\n",
       "0  Chronic disease Z4PQJD sometimes requires surg...                    1   \n",
       "1  Chronic disease Z4PQJD sometimes requires surg...                    1   \n",
       "2  Chronic disease Z4PQJD sometimes requires surg...                    1   \n",
       "3  Chronic disease Z4PQJD sometimes requires surg...                    1   \n",
       "4  Chronic disease Z4PQJD sometimes requires surg...                    1   \n",
       "\n",
       "                              Prompt (cause = False)  True (cause = False)  \n",
       "0  Chronic disease Z4PQJD sometimes requires surg...                     1  \n",
       "1  Chronic disease Z4PQJD sometimes requires surg...                     1  \n",
       "2  Chronic disease Z4PQJD sometimes requires surg...                     0  \n",
       "3  Chronic disease Z4PQJD sometimes requires surg...                     1  \n",
       "4  Chronic disease Z4PQJD sometimes requires surg...                     1  "
      ]
     },
     "metadata": {},
     "output_type": "display_data"
    }
   ],
   "source": [
    "# Load counterfactual prompts.\n",
    "df_cf = pd.read_csv(path+\"clinical_notes_counterfactual_v0.csv\")\n",
    "print(df_cf.info())\n",
    "display(df_cf.head())"
   ]
  },
  {
   "cell_type": "code",
   "execution_count": 10,
   "id": "30d4d259-3b0a-451e-83f9-20da73a9125b",
   "metadata": {},
   "outputs": [
    {
     "data": {
      "text/plain": [
       "{0: {\"('pain', 'surgery')\": 0.1345,\n",
       "  \"('pain', 'MY0L')\": 0.253,\n",
       "  \"('MY0L', 'surgery')\": 0.5295,\n",
       "  \"[('pain', 'MY0L'), ('MY0L', 'surgery')]\": 0.13396349999999999},\n",
       " 1: {\"('pain', 'surgery')\": 0.1235,\n",
       "  \"('pain', 'WYYF')\": 0.244,\n",
       "  \"('WYYF', 'surgery')\": 0.4845,\n",
       "  \"[('pain', 'WYYF'), ('WYYF', 'surgery')]\": 0.11821799999999999},\n",
       " 2: {\"('pain', 'surgery')\": 0.13,\n",
       "  \"('pain', 'M0Z6')\": 0.255,\n",
       "  \"('M0Z6', 'surgery')\": 0.5075,\n",
       "  \"[('pain', 'M0Z6'), ('M0Z6', 'surgery')]\": 0.12941249999999999},\n",
       " 3: {\"('pain', 'surgery')\": 0.0325,\n",
       "  \"('pain', '1QXC')\": 0.2445,\n",
       "  \"('pain', 'NYRP')\": 0.0645,\n",
       "  \"('1QXC', 'NYRP')\": 0.2535,\n",
       "  \"('1QXC', 'surgery')\": 0.132,\n",
       "  \"('NYRP', 'surgery')\": 0.498,\n",
       "  \"[('pain', '1QXC'), ('1QXC', 'NYRP'), ('NYRP', 'surgery')]\": 0.030866413500000002,\n",
       "  \"[('pain', '1QXC'), ('1QXC', 'surgery')]\": 0.032274000000000004,\n",
       "  \"[('pain', 'NYRP'), ('NYRP', 'surgery')]\": 0.032121000000000004},\n",
       " 4: {\"('pain', 'surgery')\": 0.0335,\n",
       "  \"('pain', 'XSHJ')\": 0.2495,\n",
       "  \"('pain', '1NM6')\": 0.0625,\n",
       "  \"('XSHJ', '1NM6')\": 0.2425,\n",
       "  \"('XSHJ', 'surgery')\": 0.1235,\n",
       "  \"('1NM6', 'surgery')\": 0.4995,\n",
       "  \"[('pain', 'XSHJ'), ('XSHJ', '1NM6'), ('1NM6', 'surgery')]\": 0.030221623124999996,\n",
       "  \"[('pain', 'XSHJ'), ('XSHJ', 'surgery')]\": 0.03081325,\n",
       "  \"[('pain', '1NM6'), ('1NM6', 'surgery')]\": 0.03121875},\n",
       " 5: {\"('pain', 'surgery')\": 0.03,\n",
       "  \"('pain', '1BZL')\": 0.238,\n",
       "  \"('pain', 'X0M7')\": 0.055,\n",
       "  \"('1BZL', 'X0M7')\": 0.247,\n",
       "  \"('1BZL', 'surgery')\": 0.1315,\n",
       "  \"('X0M7', 'surgery')\": 0.5175,\n",
       "  \"[('pain', '1BZL'), ('1BZL', 'X0M7'), ('X0M7', 'surgery')]\": 0.030421754999999998,\n",
       "  \"[('pain', '1BZL'), ('1BZL', 'surgery')]\": 0.031297,\n",
       "  \"[('pain', 'X0M7'), ('X0M7', 'surgery')]\": 0.028462499999999998},\n",
       " 6: {\"('pain', 'surgery')\": 0.064,\n",
       "  \"('pain', 'PI71')\": 0.131,\n",
       "  \"('PI71', 'surgery')\": 0.5145,\n",
       "  \"[('pain', 'PI71'), ('PI71', 'surgery')]\": 0.0673995},\n",
       " 7: {\"('pain', 'surgery')\": 0.062,\n",
       "  \"('pain', 'HCL6')\": 0.129,\n",
       "  \"('HCL6', 'surgery')\": 0.479,\n",
       "  \"[('pain', 'HCL6'), ('HCL6', 'surgery')]\": 0.061791},\n",
       " 8: {\"('pain', 'surgery')\": 0.0675,\n",
       "  \"('pain', 'PIG2')\": 0.1255,\n",
       "  \"('PIG2', 'surgery')\": 0.496,\n",
       "  \"[('pain', 'PIG2'), ('PIG2', 'surgery')]\": 0.062248},\n",
       " 9: {\"('pain', 'surgery')\": 0.0065,\n",
       "  \"('pain', 'FOON')\": 0.1145,\n",
       "  \"('pain', 'DEIG')\": 0.017,\n",
       "  \"('FOON', 'DEIG')\": 0.125,\n",
       "  \"('FOON', 'surgery')\": 0.0585,\n",
       "  \"('DEIG', 'surgery')\": 0.4985,\n",
       "  \"[('pain', 'FOON'), ('FOON', 'DEIG'), ('DEIG', 'surgery')]\": 0.0071347812500000005,\n",
       "  \"[('pain', 'FOON'), ('FOON', 'surgery')]\": 0.006698250000000001,\n",
       "  \"[('pain', 'DEIG'), ('DEIG', 'surgery')]\": 0.008474500000000001},\n",
       " 10: {\"('pain', 'surgery')\": 0.0085,\n",
       "  \"('pain', '6LVZ')\": 0.1325,\n",
       "  \"('pain', 'XLOM')\": 0.019,\n",
       "  \"('6LVZ', 'XLOM')\": 0.1215,\n",
       "  \"('6LVZ', 'surgery')\": 0.065,\n",
       "  \"('XLOM', 'surgery')\": 0.4885,\n",
       "  \"[('pain', '6LVZ'), ('6LVZ', 'XLOM'), ('XLOM', 'surgery')]\": 0.007864239375,\n",
       "  \"[('pain', '6LVZ'), ('6LVZ', 'surgery')]\": 0.0086125,\n",
       "  \"[('pain', 'XLOM'), ('XLOM', 'surgery')]\": 0.0092815},\n",
       " 11: {\"('pain', 'surgery')\": 0.004,\n",
       "  \"('pain', '07R3')\": 0.134,\n",
       "  \"('pain', 'KKXY')\": 0.012,\n",
       "  \"('07R3', 'KKXY')\": 0.123,\n",
       "  \"('07R3', 'surgery')\": 0.0565,\n",
       "  \"('KKXY', 'surgery')\": 0.475,\n",
       "  \"[('pain', '07R3'), ('07R3', 'KKXY'), ('KKXY', 'surgery')]\": 0.00782895,\n",
       "  \"[('pain', '07R3'), ('07R3', 'surgery')]\": 0.0075710000000000005,\n",
       "  \"[('pain', 'KKXY'), ('KKXY', 'surgery')]\": 0.0057}}"
      ]
     },
     "metadata": {},
     "output_type": "display_data"
    }
   ],
   "source": [
    "# Load ground truth PNS values.\n",
    "pns_dict = np.load(path+\"clinical_notes_pns_dict_v0.npy\",\n",
    "                   allow_pickle = \"TRUE\").item()\n",
    "display(pns_dict)"
   ]
  },
  {
   "cell_type": "code",
   "execution_count": 11,
   "id": "f872660d-4ca3-4c53-a13e-91a7567b498e",
   "metadata": {},
   "outputs": [
    {
     "data": {
      "text/plain": [
       "{0: {\"[('pain', 'MY0L'), ('MY0L', 'surgery')]\": 0.003988847583643294},\n",
       " 1: {\"[('pain', 'WYYF'), ('WYYF', 'surgery')]\": 0.042769230769230844},\n",
       " 2: {\"[('pain', 'M0Z6'), ('M0Z6', 'surgery')]\": 0.0045192307692309116},\n",
       " 3: {\"[('pain', '1QXC'), ('1QXC', 'NYRP'), ('NYRP', 'surgery')]\": 0.050264199999999974,\n",
       "  \"[('pain', '1QXC'), ('1QXC', 'surgery')]\": 0.006953846153846062,\n",
       "  \"[('pain', 'NYRP'), ('NYRP', 'surgery')]\": 0.011661538461538381},\n",
       " 4: {\"[('pain', 'XSHJ'), ('XSHJ', '1NM6'), ('1NM6', 'surgery')]\": 0.0978619962686569,\n",
       "  \"[('pain', 'XSHJ'), ('XSHJ', 'surgery')]\": 0.08020149253731347,\n",
       "  \"[('pain', '1NM6'), ('1NM6', 'surgery')]\": 0.06809701492537319},\n",
       " 5: {\"[('pain', '1BZL'), ('1BZL', 'X0M7'), ('X0M7', 'surgery')]\": 0.014058499999999979,\n",
       "  \"[('pain', '1BZL'), ('1BZL', 'surgery')]\": 0.04323333333333332,\n",
       "  \"[('pain', 'X0M7'), ('X0M7', 'surgery')]\": 0.051250000000000025},\n",
       " 6: {\"[('pain', 'PI71'), ('PI71', 'surgery')]\": 0.053117187499999996},\n",
       " 7: {\"[('pain', 'HCL6'), ('HCL6', 'surgery')]\": 0.0033709677419354977},\n",
       " 8: {\"[('pain', 'PIG2'), ('PIG2', 'surgery')]\": 0.0778074074074075},\n",
       " 9: {\"[('pain', 'FOON'), ('FOON', 'DEIG'), ('DEIG', 'surgery')]\": 0.09765865384615398,\n",
       "  \"[('pain', 'FOON'), ('FOON', 'surgery')]\": 0.030500000000000214,\n",
       "  \"[('pain', 'DEIG'), ('DEIG', 'surgery')]\": 0.303769230769231},\n",
       " 10: {\"[('pain', '6LVZ'), ('6LVZ', 'XLOM'), ('XLOM', 'surgery')]\": 0.07479536764705888,\n",
       "  \"[('pain', '6LVZ'), ('6LVZ', 'surgery')]\": 0.01323529411764703,\n",
       "  \"[('pain', 'XLOM'), ('XLOM', 'surgery')]\": 0.09194117647058814},\n",
       " 11: {\"[('pain', '07R3'), ('07R3', 'KKXY'), ('KKXY', 'surgery')]\": 0.9572374999999999,\n",
       "  \"[('pain', '07R3'), ('07R3', 'surgery')]\": 0.89275,\n",
       "  \"[('pain', 'KKXY'), ('KKXY', 'surgery')]\": 0.42500000000000004}}"
      ]
     },
     "metadata": {},
     "output_type": "display_data"
    }
   ],
   "source": [
    "# Load thresholds for internal consistency evaluation.\n",
    "# By default, the multiplier was 1.0\n",
    "# Here, we want a multiplier of 1.1, so we will update these values later.\n",
    "threshold_dict = np.load(path+\"clinical_notes_threshold_dict_v0.npy\",\n",
    "                         allow_pickle = \"TRUE\").item()\n",
    "display(threshold_dict)"
   ]
  },
  {
   "cell_type": "markdown",
   "id": "2f78a3e0-e12b-4fdf-9c92-255364bf9cf6",
   "metadata": {},
   "source": [
    "## Simulate evaluation and error analysis\n",
    "\n",
    "Subsample a single Context ID. For illustration, we will focus on Context 0."
   ]
  },
  {
   "cell_type": "code",
   "execution_count": 12,
   "id": "2e4bcff1-1272-4da5-ba85-a6b6ee9d8648",
   "metadata": {},
   "outputs": [
    {
     "name": "stdout",
     "output_type": "stream",
     "text": [
      "10000\n",
      "20000\n",
      "30000\n"
     ]
    }
   ],
   "source": [
    "# Sample Context 0.\n",
    "df_0 = df[df[\"Context ID\"] == 0]\n",
    "df_f_0 = df_f[df_f[\"Context ID\"] == 0]\n",
    "df_cf_0 = df_cf[df_cf[\"Context ID\"] == 0]\n",
    "\n",
    "print(len(df_0))\n",
    "print(len(df_f_0))\n",
    "print(len(df_cf_0))"
   ]
  },
  {
   "cell_type": "code",
   "execution_count": 13,
   "id": "3c0ae1a7-c784-4f05-a9dd-4239c0ab27cb",
   "metadata": {},
   "outputs": [
    {
     "data": {
      "text/plain": [
       "Index(['Task ID', 'Context ID', 'Sample ID', 'Replicate ID', 'Nodes per BCC',\n",
       "       'DAG adjacency matrix', 'DAG nodes', 'CCT adjacency matrix',\n",
       "       'CCT nodes', 'Exogenous variables', 'Bernoulli parameters',\n",
       "       'Global quantity', 'Local quantities', 'Compositions', 'Causal context',\n",
       "       'Sample context', 'Factual queries',\n",
       "       'Counterfactual queries (cause = True)',\n",
       "       'Counterfactual queries (cause = False)'],\n",
       "      dtype='object')"
      ]
     },
     "execution_count": 13,
     "metadata": {},
     "output_type": "execute_result"
    }
   ],
   "source": [
    "df_0.columns"
   ]
  },
  {
   "cell_type": "code",
   "execution_count": 14,
   "id": "006f025a-9836-4fc0-8bfc-55f87bbe56f9",
   "metadata": {},
   "outputs": [
    {
     "data": {
      "image/png": "[encoded data removed]",
      "text/plain": [
       "<Figure size 240x240 with 1 Axes>"
      ]
     },
     "metadata": {},
     "output_type": "display_data"
    }
   ],
   "source": [
    "# View causal DAG (endogenous variables only).\n",
    "u.plot_nx(df_0[\"DAG adjacency matrix\"][0],\n",
    "          labels = literal_eval(df_0[\"DAG nodes\"][0]),\n",
    "          figsize = (3,3), \n",
    "          dpi = 80)"
   ]
  },
  {
   "cell_type": "markdown",
   "id": "89c7c8ea-ca72-405a-a101-67e6c9f0e21c",
   "metadata": {},
   "source": [
    "### Associational level: Evaluate factual responses"
   ]
  },
  {
   "cell_type": "code",
   "execution_count": 15,
   "id": "7a9c3e9d-2cdd-4a77-890d-b845ce2e21ae",
   "metadata": {},
   "outputs": [
    {
     "name": "stdout",
     "output_type": "stream",
     "text": [
      "2000\n"
     ]
    }
   ],
   "source": [
    "# Perturb true responses to obtain synthetic predictions.\n",
    "f_true = df_f_0[\"True\"].to_numpy()\n",
    "idx = np.random.choice(np.arange(len(f_true)), size = int(len(f_true)/10), replace = False)\n",
    "f_pred = [f_true[i] if i not in idx else 1-f_true[i] for i in range(len(f_true))]\n",
    "print(sum(np.where(f_pred != f_true, True, False)))"
   ]
  },
  {
   "cell_type": "code",
   "execution_count": 16,
   "id": "37b20f05-8610-48f5-9143-197159063de3",
   "metadata": {},
   "outputs": [
    {
     "name": "stdout",
     "output_type": "stream",
     "text": [
      "F1        = 0.9231537693076155\n",
      "Precision = 0.9491940581542352\n",
      "Recall    = 0.8985041136873597\n",
      "Accuracy  = 0.9\n"
     ]
    }
   ],
   "source": [
    "# Treat responses for all effects as one long vector.\n",
    "# A finer-grained analysis would compute metrics separately for each effect.\n",
    "print(\"F1        =\", f1_score(f_true, f_pred))\n",
    "print(\"Precision =\", precision_score(f_true, f_pred))\n",
    "print(\"Recall    =\", recall_score(f_true, f_pred))\n",
    "print(\"Accuracy  =\", accuracy_score(f_true, f_pred))"
   ]
  },
  {
   "cell_type": "markdown",
   "id": "f4fa4c1e-cec2-4b0e-be99-a4aec548433a",
   "metadata": {},
   "source": [
    "### Interventional level: Evaluate interventional responses"
   ]
  },
  {
   "cell_type": "code",
   "execution_count": 17,
   "id": "ac7b3a0a-f3b5-442b-99a9-2511661b155a",
   "metadata": {},
   "outputs": [
    {
     "name": "stdout",
     "output_type": "stream",
     "text": [
      "3000\n"
     ]
    }
   ],
   "source": [
    "# Intervention (cause = True).\n",
    "do_1_true = df_cf_0[\"True (cause = True)\"].to_numpy()\n",
    "idx = np.random.choice(np.arange(len(do_1_true)), size = int(len(do_1_true)/10), replace = False)\n",
    "do_1_pred = [do_1_true[i] if i not in idx else 1-do_1_true[i] for i in range(len(do_1_true))]\n",
    "print(sum(np.where(do_1_pred != do_1_true, True, False)))"
   ]
  },
  {
   "cell_type": "code",
   "execution_count": 18,
   "id": "bf872910-60e6-4c6e-b227-29f761ae17d7",
   "metadata": {},
   "outputs": [
    {
     "name": "stdout",
     "output_type": "stream",
     "text": [
      "F1        = 0.9251571699431195\n",
      "Precision = 0.9511644608597517\n",
      "Recall    = 0.9005342399222924\n",
      "Accuracy  = 0.9\n"
     ]
    }
   ],
   "source": [
    "# Treat responses for all cause-effect pairs as one long vector.\n",
    "# A finer-grained analysis would compute metrics separately for each cause-effect pair.\n",
    "print(\"F1        =\", f1_score(do_1_true, do_1_pred))\n",
    "print(\"Precision =\", precision_score(do_1_true, do_1_pred))\n",
    "print(\"Recall    =\", recall_score(do_1_true, do_1_pred))\n",
    "print(\"Accuracy  =\", accuracy_score(do_1_true, do_1_pred))"
   ]
  },
  {
   "cell_type": "code",
   "execution_count": 19,
   "id": "23540100-2098-4310-b1fa-52e16cc39074",
   "metadata": {},
   "outputs": [
    {
     "name": "stdout",
     "output_type": "stream",
     "text": [
      "3000\n"
     ]
    }
   ],
   "source": [
    "# Intervention (cause = False).\n",
    "do_0_true = df_cf_0[\"True (cause = False)\"].to_numpy()\n",
    "idx = np.random.choice(np.arange(len(do_0_true)), size = int(len(do_0_true)/10), replace = False)\n",
    "do_0_pred = [do_0_true[i] if i not in idx else 1-do_0_true[i] for i in range(len(do_0_true))]\n",
    "print(sum(np.where(do_0_pred != do_0_true, True, False)))"
   ]
  },
  {
   "cell_type": "code",
   "execution_count": 20,
   "id": "67e37086-7c8f-4527-848f-59b22c1cbb1d",
   "metadata": {},
   "outputs": [
    {
     "name": "stdout",
     "output_type": "stream",
     "text": [
      "F1        = 0.8728166864507377\n",
      "Precision = 0.8459894806048652\n",
      "Recall    = 0.9014010507880911\n",
      "Accuracy  = 0.9\n"
     ]
    }
   ],
   "source": [
    "# Treat responses for all cause-effect pairs as one long vector.\n",
    "# A finer-grained analysis would compute metrics separately for each cause-effect pair.\n",
    "print(\"F1        =\", f1_score(do_0_true, do_0_pred))\n",
    "print(\"Precision =\", precision_score(do_0_true, do_0_pred))\n",
    "print(\"Recall    =\", recall_score(do_0_true, do_0_pred))\n",
    "print(\"Accuracy  =\", accuracy_score(do_0_true, do_0_pred))"
   ]
  },
  {
   "cell_type": "markdown",
   "id": "53d33f86-0c90-45e4-b17f-3af115d48023",
   "metadata": {},
   "source": [
    "### Counterfactual level: Evaluate PNS external validity and internal consistency"
   ]
  },
  {
   "cell_type": "markdown",
   "id": "1e0fba7d-b251-496b-b802-c88bb802af3d",
   "metadata": {},
   "source": [
    "#### External validity of individual causal quantities"
   ]
  },
  {
   "cell_type": "code",
   "execution_count": 21,
   "id": "e335133c-c93f-4995-a5fd-2d8e0f8207ab",
   "metadata": {},
   "outputs": [
    {
     "name": "stdout",
     "output_type": "stream",
     "text": [
      "True PNS              = 0.1345\n",
      "Predicted PNS         = 0.30893333333333334\n",
      "External validity RAE = 1.296902106567534\n"
     ]
    }
   ],
   "source": [
    "# Compute PNS estimates for each cause-effect pair.\n",
    "# For illustration, we will demonstrate on (pain,surgery).\n",
    "df_pred = pd.DataFrame({\"Cause = True\": do_1_pred, \n",
    "                        \"Cause = False\": do_0_pred})\n",
    "pns_pred = u.get_pns_direct(df_pred,\n",
    "                            y_do_x1 = \"Cause = True\", \n",
    "                            y_do_x0 = \"Cause = False\")\n",
    "pns_true = pns_dict.get(0).get(\"('pain', 'surgery')\")\n",
    "external_validity_rae = u.get_rae(pns_true, pns_pred)\n",
    "\n",
    "print(\"True PNS              =\", pns_true)\n",
    "print(\"Predicted PNS         =\", pns_pred)\n",
    "print(\"External validity RAE =\", external_validity_rae)"
   ]
  },
  {
   "cell_type": "code",
   "execution_count": 22,
   "id": "21995da7-8ef8-431f-bfdc-79ec9596ac9e",
   "metadata": {},
   "outputs": [
    {
     "data": {
      "text/html": [
       "<div>\n",
       "<style scoped>\n",
       "    .dataframe tbody tr th:only-of-type {\n",
       "        vertical-align: middle;\n",
       "    }\n",
       "\n",
       "    .dataframe tbody tr th {\n",
       "        vertical-align: top;\n",
       "    }\n",
       "\n",
       "    .dataframe thead th {\n",
       "        text-align: right;\n",
       "    }\n",
       "</style>\n",
       "<table border=\"1\" class=\"dataframe\">\n",
       "  <thead>\n",
       "    <tr style=\"text-align: right;\">\n",
       "      <th></th>\n",
       "      <th>Cause = True</th>\n",
       "      <th>Cause = False</th>\n",
       "    </tr>\n",
       "  </thead>\n",
       "  <tbody>\n",
       "    <tr>\n",
       "      <th>0</th>\n",
       "      <td>1</td>\n",
       "      <td>0</td>\n",
       "    </tr>\n",
       "    <tr>\n",
       "      <th>1</th>\n",
       "      <td>1</td>\n",
       "      <td>1</td>\n",
       "    </tr>\n",
       "    <tr>\n",
       "      <th>2</th>\n",
       "      <td>1</td>\n",
       "      <td>0</td>\n",
       "    </tr>\n",
       "    <tr>\n",
       "      <th>3</th>\n",
       "      <td>0</td>\n",
       "      <td>1</td>\n",
       "    </tr>\n",
       "    <tr>\n",
       "      <th>4</th>\n",
       "      <td>1</td>\n",
       "      <td>1</td>\n",
       "    </tr>\n",
       "    <tr>\n",
       "      <th>...</th>\n",
       "      <td>...</td>\n",
       "      <td>...</td>\n",
       "    </tr>\n",
       "    <tr>\n",
       "      <th>29995</th>\n",
       "      <td>1</td>\n",
       "      <td>0</td>\n",
       "    </tr>\n",
       "    <tr>\n",
       "      <th>29996</th>\n",
       "      <td>1</td>\n",
       "      <td>0</td>\n",
       "    </tr>\n",
       "    <tr>\n",
       "      <th>29997</th>\n",
       "      <td>1</td>\n",
       "      <td>1</td>\n",
       "    </tr>\n",
       "    <tr>\n",
       "      <th>29998</th>\n",
       "      <td>0</td>\n",
       "      <td>0</td>\n",
       "    </tr>\n",
       "    <tr>\n",
       "      <th>29999</th>\n",
       "      <td>1</td>\n",
       "      <td>0</td>\n",
       "    </tr>\n",
       "  </tbody>\n",
       "</table>\n",
       "<p>30000 rows × 2 columns</p>\n",
       "</div>"
      ],
      "text/plain": [
       "       Cause = True  Cause = False\n",
       "0                 1              0\n",
       "1                 1              1\n",
       "2                 1              0\n",
       "3                 0              1\n",
       "4                 1              1\n",
       "...             ...            ...\n",
       "29995             1              0\n",
       "29996             1              0\n",
       "29997             1              1\n",
       "29998             0              0\n",
       "29999             1              0\n",
       "\n",
       "[30000 rows x 2 columns]"
      ]
     },
     "execution_count": 22,
     "metadata": {},
     "output_type": "execute_result"
    }
   ],
   "source": [
    "df_pred"
   ]
  },
  {
   "cell_type": "code",
   "execution_count": 23,
   "id": "31b7d1fa-2788-46fe-bda0-a374f8173ecb",
   "metadata": {},
   "outputs": [
    {
     "data": {
      "text/plain": [
       "{\"('pain', 'surgery')\": 0.1345,\n",
       " \"('pain', 'MY0L')\": 0.253,\n",
       " \"('MY0L', 'surgery')\": 0.5295,\n",
       " \"[('pain', 'MY0L'), ('MY0L', 'surgery')]\": 0.13396349999999999}"
      ]
     },
     "execution_count": 23,
     "metadata": {},
     "output_type": "execute_result"
    }
   ],
   "source": [
    "pns_dict.get(0)"
   ]
  },
  {
   "cell_type": "markdown",
   "id": "f074e7e9-3fb7-4f3d-8f04-beb42745d0b5",
   "metadata": {},
   "source": [
    "#### Internal consistency and external validity of compositions"
   ]
  },
  {
   "cell_type": "code",
   "execution_count": 24,
   "id": "03ec4c41-1987-46cc-b583-3bca68cea676",
   "metadata": {},
   "outputs": [],
   "source": [
    "%%capture\n",
    "# Compute PNS for composition.\n",
    "# We will perturb the true values to simulate LM responses with errors.\n",
    "df_pain_VGJS = df_cf_0[df_cf_0[\"Cause-effect pair\"] == \"('pain', 'VGJS')\"]\n",
    "idx = np.random.choice(np.arange(len(df_pain_VGJS)), size = int(len(df_pain_VGJS)/10), replace = False)\n",
    "true = df_pain_VGJS[\"True (cause = True)\"].to_numpy()\n",
    "df_pain_VGJS[\"Pred (cause = True)\"] = [true[i] if i not in idx else 1-true[i] for i in range(len(true))]\n",
    "\n",
    "idx = np.random.choice(np.arange(len(df_pain_VGJS)), size = int(len(df_pain_VGJS)/10), replace = False)\n",
    "true = df_pain_VGJS[\"True (cause = False)\"].to_numpy()\n",
    "df_pain_VGJS[\"Pred (cause = False)\"] = [true[i] if i not in idx else 1-true[i] for i in range(len(true))]\n",
    "\n",
    "pns_pain_VGJS = u.get_pns_direct(df_pain_VGJS,\n",
    "                                 y_do_x1 = \"Pred (cause = True)\", \n",
    "                                 y_do_x0 = \"Pred (cause = False)\")\n",
    "\n",
    "df_VGJS_surgery = df_cf_0[df_cf_0[\"Cause-effect pair\"] == \"('VGJS', 'surgery')\"]\n",
    "idx = np.random.choice(np.arange(len(df_pain_VGJS)), size = int(len(df_pain_VGJS)/10), replace = False)\n",
    "true = df_VGJS_surgery[\"True (cause = True)\"].to_numpy()\n",
    "df_VGJS_surgery[\"Pred (cause = True)\"] = [true[i] if i not in idx else 1-true[i] for i in range(len(true))]\n",
    "\n",
    "true = df_VGJS_surgery[\"True (cause = False)\"].to_numpy()\n",
    "idx = np.random.choice(np.arange(len(df_pain_VGJS)), size = int(len(df_pain_VGJS)/10), replace = False)\n",
    "df_VGJS_surgery[\"Pred (cause = False)\"] = [true[i] if i not in idx else 1-true[i] for i in range(len(true))]\n",
    "\n",
    "pns_VGJS_surgery = u.get_pns_direct(df_VGJS_surgery,\n",
    "                                    y_do_x1 = \"Pred (cause = True)\", \n",
    "                                    y_do_x0 = \"Pred (cause = False)\")"
   ]
  },
  {
   "cell_type": "code",
   "execution_count": 25,
   "id": "f7670809-5c31-4159-be81-3b4528659089",
   "metadata": {},
   "outputs": [
    {
     "ename": "TypeError",
     "evalue": "unsupported operand type(s) for -: 'NoneType' and 'float'",
     "output_type": "error",
     "traceback": [
      "\u001b[0;31m---------------------------------------------------------------------------\u001b[0m",
      "\u001b[0;31mTypeError\u001b[0m                                 Traceback (most recent call last)",
      "Cell \u001b[0;32mIn[25], line 4\u001b[0m\n\u001b[1;32m      2\u001b[0m comp_true \u001b[38;5;241m=\u001b[39m pns_dict\u001b[38;5;241m.\u001b[39mget(\u001b[38;5;241m0\u001b[39m)\u001b[38;5;241m.\u001b[39mget(\u001b[38;5;124m\"\u001b[39m\u001b[38;5;124m[(\u001b[39m\u001b[38;5;124m'\u001b[39m\u001b[38;5;124mpain\u001b[39m\u001b[38;5;124m'\u001b[39m\u001b[38;5;124m, \u001b[39m\u001b[38;5;124m'\u001b[39m\u001b[38;5;124mVGJS\u001b[39m\u001b[38;5;124m'\u001b[39m\u001b[38;5;124m), (\u001b[39m\u001b[38;5;124m'\u001b[39m\u001b[38;5;124mVGJS\u001b[39m\u001b[38;5;124m'\u001b[39m\u001b[38;5;124m, \u001b[39m\u001b[38;5;124m'\u001b[39m\u001b[38;5;124msurgery\u001b[39m\u001b[38;5;124m'\u001b[39m\u001b[38;5;124m)]\u001b[39m\u001b[38;5;124m\"\u001b[39m)\n\u001b[1;32m      3\u001b[0m comp_pred \u001b[38;5;241m=\u001b[39m pns_pain_VGJS\u001b[38;5;241m*\u001b[39mpns_VGJS_surgery\n\u001b[0;32m----> 4\u001b[0m external_validity_rae \u001b[38;5;241m=\u001b[39m \u001b[43mu\u001b[49m\u001b[38;5;241;43m.\u001b[39;49m\u001b[43mget_rae\u001b[49m\u001b[43m(\u001b[49m\u001b[43mcomp_true\u001b[49m\u001b[43m,\u001b[49m\u001b[43m \u001b[49m\u001b[43mcomp_pred\u001b[49m\u001b[43m)\u001b[49m\n\u001b[1;32m      5\u001b[0m \u001b[38;5;28mprint\u001b[39m(\u001b[38;5;124m\"\u001b[39m\u001b[38;5;124mExternal validity RAE =\u001b[39m\u001b[38;5;124m\"\u001b[39m, external_validity_rae)\n\u001b[1;32m      7\u001b[0m \u001b[38;5;66;03m# Compare to a threshold for validity.\u001b[39;00m\n",
      "File \u001b[0;32m~/Desktop/cornell/ccr/demos/../utils.py:105\u001b[0m, in \u001b[0;36mUtils.get_rae\u001b[0;34m(self, true, pred)\u001b[0m\n\u001b[1;32m    101\u001b[0m \u001b[38;5;28;01mdef\u001b[39;00m \u001b[38;5;21mget_rae\u001b[39m(\u001b[38;5;28mself\u001b[39m,\n\u001b[1;32m    102\u001b[0m             true: np\u001b[38;5;241m.\u001b[39marray, \n\u001b[1;32m    103\u001b[0m             pred: np\u001b[38;5;241m.\u001b[39marray) \u001b[38;5;241m-\u001b[39m\u001b[38;5;241m>\u001b[39m \u001b[38;5;28mfloat\u001b[39m:\n\u001b[0;32m--> 105\u001b[0m     \u001b[38;5;28;01mreturn\u001b[39;00m \u001b[38;5;28mabs\u001b[39m(\u001b[43mtrue\u001b[49m\u001b[43m \u001b[49m\u001b[38;5;241;43m-\u001b[39;49m\u001b[43m \u001b[49m\u001b[43mpred\u001b[49m) \u001b[38;5;241m/\u001b[39m true\n",
      "\u001b[0;31mTypeError\u001b[0m: unsupported operand type(s) for -: 'NoneType' and 'float'"
     ]
    }
   ],
   "source": [
    "# Compute RAE for external validity.\n",
    "comp_true = pns_dict.get(0).get(\"[('pain', 'VGJS'), ('VGJS', 'surgery')]\")\n",
    "comp_pred = pns_pain_VGJS*pns_VGJS_surgery\n",
    "external_validity_rae = u.get_rae(comp_true, comp_pred)\n",
    "print(\"External validity RAE =\", external_validity_rae)\n",
    "\n",
    "# Compare to a threshold for validity.\n",
    "thresh = 0.1\n",
    "print(\"Desired RAE threshold =\", thresh)\n",
    "print(\"RAE <= threshold:\", external_validity_rae <= thresh)"
   ]
  },
  {
   "cell_type": "code",
   "execution_count": null,
   "id": "1782ac9a-f5d5-48aa-b686-e8fc0e6ca94d",
   "metadata": {},
   "outputs": [],
   "source": [
    "# Compute RAE for internal consistency.\n",
    "internal_consistency_rae = u.get_rae(pns_pred, comp_pred)\n",
    "print(\"Internal consistency RAE =\", internal_consistency_rae)\n",
    "\n",
    "# Compare to pre-defined threshold.\n",
    "# We will use a multiplier on the threshold to be generous.\n",
    "thresh = threshold_dict.get(0).get(\"[('pain', 'VGJS'), ('VGJS', 'surgery')]\")\n",
    "thresh *= 1.25\n",
    "print(\"Desired RAE threshold =\", thresh)\n",
    "print(\"RAE <= threshold:\", internal_consistency_rae <= thresh)"
   ]
  },
  {
   "cell_type": "markdown",
   "id": "927cc3c0-4cb9-4966-93bb-409e2db94e5a",
   "metadata": {},
   "source": [
    "## Generate new tasks"
   ]
  },
  {
   "cell_type": "code",
   "execution_count": null,
   "id": "e07410ed-2a9e-4542-86b9-ccb2006ea57f",
   "metadata": {},
   "outputs": [],
   "source": [
    "# Four BCCs of varying sizes and topology.\n",
    "size = [3,4,4,2]\n",
    "tg = ClinicalNotes(n_per_bcc = size, \n",
    "                   bcc_types = [\"cycle\", \"wheel\", \"cycle\", \"cycle\"])\n",
    "context = tg.get_causal_context()\n",
    "patient_history = tg.get_sample_context(n_extra_vars = 2)\n",
    "print()\n",
    "print(\"Context:\", context)\n",
    "print()\n",
    "print(\"Patient history:\", patient_history)\n",
    "print()\n",
    "print(\"- Global cause-effect pairs:\", tg.get_global())\n",
    "print(\"- Local cause-effect pairs:\", tg.get_local())\n",
    "print(\"- Compositions:\", tg.get_compositions())"
   ]
  },
  {
   "cell_type": "code",
   "execution_count": null,
   "id": "747cfaaa-cf07-4e62-a1f8-564bb7623b4e",
   "metadata": {},
   "outputs": [],
   "source": [
    "# See factual queries.\n",
    "print()\n",
    "print(\"- Factual queries:\")\n",
    "display(tg.get_factual_queries())"
   ]
  },
  {
   "cell_type": "code",
   "execution_count": null,
   "id": "248ce32d-cd64-4649-a635-c551c13b5d87",
   "metadata": {},
   "outputs": [],
   "source": [
    "# See counterfactual query pairs (interventional = True and intervention = False).\n",
    "cf_1, cf_0 = tg.get_counterfactual_queries()\n",
    "print(\"- Interventional queries (cause = True):\")\n",
    "for key,val in cf_1.items():\n",
    "    print(\"\\n-----------------------\")\n",
    "    print(\"\\n-- {} --\".format(key))\n",
    "    print(\"Prompt:\", val.get(\"Prompt\"))\n",
    "    print(\"True endogenous:\", val.get(\"True endogenous\"))\n",
    "    print(\"True exogenous:\", val.get(\"True exogenous\"))\n",
    "    print(\"True response:\", val.get(\"True response\"))\n",
    "print(\"\\n-----------------------\")"
   ]
  },
  {
   "cell_type": "code",
   "execution_count": null,
   "id": "9d9fb595-7305-4386-b708-08267fdd0ce0",
   "metadata": {},
   "outputs": [],
   "source": [
    "print(\"- Interventional queries (cause = False):\")\n",
    "for key,val in cf_0.items():\n",
    "    print(\"\\n-----------------------\")\n",
    "    print(\"\\n-- {} --\".format(key))\n",
    "    print(\"Prompt:\", val.get(\"Prompt\"))\n",
    "    print(\"True endogenous:\", val.get(\"True endogenous\"))\n",
    "    print(\"True exogenous:\", val.get(\"True exogenous\"))\n",
    "    print(\"True response:\", val.get(\"True response\"))\n",
    "print(\"\\n-----------------------\")"
   ]
  },
  {
   "cell_type": "code",
   "execution_count": null,
   "id": "7d7293a1-0dfa-4a7a-85ae-fef9832d05f0",
   "metadata": {},
   "outputs": [],
   "source": [
    "# Sample observational data from the structural causal model (SCM).\n",
    "df_obs, df_noise = tg.sample_scm(n = 5,\n",
    "                                 intervene_node = None,\n",
    "                                 intervene_value = 0)\n",
    "display(df_obs.head())\n",
    "display(df_noise.head())"
   ]
  },
  {
   "cell_type": "code",
   "execution_count": null,
   "id": "4a98f2d0-02f3-4e9e-a745-76914d084952",
   "metadata": {},
   "outputs": [],
   "source": [
    "# Sample interventional data from the structural causal model (SCM).\n",
    "causes = set([x[0] for x in [tg.get_global()]+tg.get_local()])\n",
    "intervene_value = 1\n",
    "for cause in causes:\n",
    "    print(\"\\n-- {} = {} --\".format(cause,intervene_value))\n",
    "    df_obs, df_noise = tg.sample_scm(n = 5,\n",
    "                                     intervene_node = cause,\n",
    "                                     intervene_value = intervene_value)\n",
    "    display(df_obs.head())\n",
    "    display(df_noise.head())"
   ]
  }
 ],
 "metadata": {
  "kernelspec": {
   "display_name": "ICP",
   "language": "python",
   "name": "icp"
  },
  "language_info": {
   "codemirror_mode": {
    "name": "ipython",
    "version": 3
   },
   "file_extension": ".py",
   "mimetype": "text/x-python",
   "name": "python",
   "nbconvert_exporter": "python",
   "pygments_lexer": "ipython3",
   "version": "3.10.13"
  }
 },
 "nbformat": 4,
 "nbformat_minor": 5
}
