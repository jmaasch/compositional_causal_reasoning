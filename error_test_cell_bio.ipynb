{
 "cells": [
  {
   "cell_type": "markdown",
   "id": "351d34b5-e039-4897-b10b-86cb67866223",
   "metadata": {},
   "source": [
    "# CellBio task generation"
   ]
  },
  {
   "cell_type": "code",
   "execution_count": 1,
   "id": "3694e99b-d03a-4078-bb96-872a0d54c1ea",
   "metadata": {},
   "outputs": [],
   "source": [
    "# General importations.\n",
    "import pandas as pd\n",
    "import numpy as np\n",
    "import matplotlib.pyplot as plt\n",
    "import math\n",
    "import string\n",
    "from random import shuffle,seed,choices\n",
    "from faker import Faker\n",
    "from faker.providers.person.en import Provider\n",
    "import networkx as nx\n",
    "import itertools\n",
    "\n",
    "from utils import Utils\n",
    "from cell_bio import CellBio\n",
    "from dataset_generator import DataSetGenerator"
   ]
  },
  {
   "cell_type": "code",
   "execution_count": 2,
   "id": "bae9af01-249a-4bba-991c-a09af886f711",
   "metadata": {},
   "outputs": [],
   "source": [
    "u = Utils()\n",
    "dg = DataSetGenerator()"
   ]
  },
  {
   "cell_type": "markdown",
   "id": "27c54002-6b13-4cc1-a56f-c6311fb15a5e",
   "metadata": {},
   "source": [
    "## Error test (low complexity)"
   ]
  },
  {
   "cell_type": "code",
   "execution_count": 4,
   "id": "2b27cf8a-d87f-4964-9039-6b5174ede16e",
   "metadata": {},
   "outputs": [
    {
     "name": "stdout",
     "output_type": "stream",
     "text": [
      "root K8NE\n",
      "leaf 72I1\n",
      "{('K8NE', 'DEIE'): 1.1, ('K8NE', 'G3I7'): 4.2, ('K8NE', '972S'): 2.2, ('K8NE', '72I1'): 4.1, ('DEIE', 'UKLF'): 2.5, ('UKLF', '72I1'): 1.7, ('G3I7', 'EDU0'): 2.3, ('EDU0', '72I1'): 1.1, ('972S', 'ASAZ'): 0.5, ('ASAZ', '72I1'): 2.1}\n"
     ]
    },
    {
     "data": {
      "image/png": "[encoded data removed]",
      "text/plain": [
       "<Figure size 350x350 with 1 Axes>"
      ]
     },
     "metadata": {},
     "output_type": "display_data"
    },
    {
     "ename": "TypeError",
     "evalue": "'NoneType' object is not iterable",
     "output_type": "error",
     "traceback": [
      "\u001b[0;31m---------------------------------------------------------------------------\u001b[0m",
      "\u001b[0;31mTypeError\u001b[0m                                 Traceback (most recent call last)",
      "Cell \u001b[0;32mIn[4], line 2\u001b[0m\n\u001b[1;32m      1\u001b[0m size \u001b[38;5;241m=\u001b[39m [[\u001b[38;5;241m2\u001b[39m,\u001b[38;5;241m2\u001b[39m,\u001b[38;5;241m2\u001b[39m],[\u001b[38;5;241m2\u001b[39m,\u001b[38;5;241m2\u001b[39m,\u001b[38;5;241m2\u001b[39m],[\u001b[38;5;241m2\u001b[39m,\u001b[38;5;241m2\u001b[39m,\u001b[38;5;241m2\u001b[39m]]\n\u001b[0;32m----> 2\u001b[0m tg \u001b[38;5;241m=\u001b[39m \u001b[43mCellBio\u001b[49m\u001b[43m(\u001b[49m\u001b[43mn_per_bcc\u001b[49m\u001b[43m \u001b[49m\u001b[38;5;241;43m=\u001b[39;49m\u001b[43m \u001b[49m\u001b[43msize\u001b[49m\u001b[43m,\u001b[49m\u001b[43m \u001b[49m\n\u001b[1;32m      3\u001b[0m \u001b[43m             \u001b[49m\u001b[43mbcc_types\u001b[49m\u001b[43m \u001b[49m\u001b[38;5;241;43m=\u001b[39;49m\u001b[43m \u001b[49m\u001b[43m[\u001b[49m\u001b[43m[\u001b[49m\u001b[38;5;124;43m\"\u001b[39;49m\u001b[38;5;124;43mcycle\u001b[39;49m\u001b[38;5;124;43m\"\u001b[39;49m\u001b[43m]\u001b[49m\u001b[38;5;241;43m*\u001b[39;49m\u001b[38;5;28;43mlen\u001b[39;49m\u001b[43m(\u001b[49m\u001b[43msize\u001b[49m\u001b[43m[\u001b[49m\u001b[38;5;241;43m0\u001b[39;49m\u001b[43m]\u001b[49m\u001b[43m)\u001b[49m\u001b[43m]\u001b[49m\u001b[38;5;241;43m*\u001b[39;49m\u001b[38;5;28;43mlen\u001b[39;49m\u001b[43m(\u001b[49m\u001b[43msize\u001b[49m\u001b[43m)\u001b[49m\u001b[43m)\u001b[49m\n\u001b[1;32m      4\u001b[0m \u001b[38;5;124;03m'''\u001b[39;00m\n\u001b[1;32m      5\u001b[0m \u001b[38;5;124;03mcontext = tg.get_causal_context()\u001b[39;00m\n\u001b[1;32m      6\u001b[0m \u001b[38;5;124;03mpatient_history = tg.get_sample_context(n_extra_vars = 2)\u001b[39;00m\n\u001b[0;32m   (...)\u001b[0m\n\u001b[1;32m     14\u001b[0m \u001b[38;5;124;03mprint(\"- Compositions:\", tg.get_compositions())\u001b[39;00m\n\u001b[1;32m     15\u001b[0m \u001b[38;5;124;03m'''\u001b[39;00m\n",
      "File \u001b[0;32m~/Desktop/cornell/ccr/task_generator.py:51\u001b[0m, in \u001b[0;36mTaskGenerator.__init__\u001b[0;34m(self, n_per_bcc, bcc_types, bern, p, plot)\u001b[0m\n\u001b[1;32m     49\u001b[0m \u001b[38;5;28mself\u001b[39m\u001b[38;5;241m.\u001b[39mglobal_quantity \u001b[38;5;241m=\u001b[39m \u001b[38;5;28mself\u001b[39m\u001b[38;5;241m.\u001b[39mget_global()\n\u001b[1;32m     50\u001b[0m \u001b[38;5;28mself\u001b[39m\u001b[38;5;241m.\u001b[39mlocal \u001b[38;5;241m=\u001b[39m \u001b[38;5;28mself\u001b[39m\u001b[38;5;241m.\u001b[39mget_local()\n\u001b[0;32m---> 51\u001b[0m \u001b[38;5;28mself\u001b[39m\u001b[38;5;241m.\u001b[39mcompositions \u001b[38;5;241m=\u001b[39m \u001b[38;5;28;43mself\u001b[39;49m\u001b[38;5;241;43m.\u001b[39;49m\u001b[43mget_compositions\u001b[49m\u001b[43m(\u001b[49m\u001b[43m)\u001b[49m\n\u001b[1;32m     53\u001b[0m \u001b[38;5;66;03m# Parameters to exogenous noise distributions.\u001b[39;00m\n\u001b[1;32m     54\u001b[0m \u001b[38;5;28;01mif\u001b[39;00m bern \u001b[38;5;241m==\u001b[39m \u001b[38;5;124m\"\u001b[39m\u001b[38;5;124mrandom\u001b[39m\u001b[38;5;124m\"\u001b[39m:\n",
      "File \u001b[0;32m~/Desktop/cornell/ccr/task_generator.py:241\u001b[0m, in \u001b[0;36mTaskGenerator.get_compositions\u001b[0;34m(self)\u001b[0m\n\u001b[1;32m    239\u001b[0m paths \u001b[38;5;241m=\u001b[39m \u001b[38;5;28mself\u001b[39m\u001b[38;5;241m.\u001b[39mget_cct_all_paths()\n\u001b[1;32m    240\u001b[0m compositions \u001b[38;5;241m=\u001b[39m []\n\u001b[0;32m--> 241\u001b[0m \u001b[38;5;28;01mfor\u001b[39;00m path \u001b[38;5;129;01min\u001b[39;00m paths:\n\u001b[1;32m    242\u001b[0m     comp \u001b[38;5;241m=\u001b[39m [(path[i],path[i\u001b[38;5;241m+\u001b[39m\u001b[38;5;241m1\u001b[39m]) \u001b[38;5;28;01mfor\u001b[39;00m i \u001b[38;5;129;01min\u001b[39;00m \u001b[38;5;28mrange\u001b[39m(\u001b[38;5;28mlen\u001b[39m(path)\u001b[38;5;241m-\u001b[39m\u001b[38;5;241m1\u001b[39m)] \n\u001b[1;32m    243\u001b[0m     \u001b[38;5;28;01mif\u001b[39;00m \u001b[38;5;28mlen\u001b[39m(comp) \u001b[38;5;241m>\u001b[39m\u001b[38;5;241m=\u001b[39m \u001b[38;5;241m2\u001b[39m:\n",
      "\u001b[0;31mTypeError\u001b[0m: 'NoneType' object is not iterable"
     ]
    }
   ],
   "source": [
    "size = [[2,2,2],[2,2,2],[2,2,2]]\n",
    "tg = CellBio(n_per_bcc = size, \n",
    "             bcc_types = [[\"cycle\"]*len(size[0])]*len(size))\n",
    "'''\n",
    "context = tg.get_causal_context()\n",
    "patient_history = tg.get_sample_context(n_extra_vars = 2)\n",
    "print()\n",
    "print(\"Context:\", context)\n",
    "print()\n",
    "print(\"Patient history:\", patient_history)\n",
    "print()\n",
    "print(\"- Global cause-effect pairs:\", tg.get_global())\n",
    "print(\"- Local cause-effect pairs:\", tg.get_local())\n",
    "print(\"- Compositions:\", tg.get_compositions())\n",
    "'''"
   ]
  },
  {
   "cell_type": "code",
   "execution_count": null,
   "id": "2b53900c-a276-4a54-b03d-395e96acbe7b",
   "metadata": {},
   "outputs": [],
   "source": [
    "print()\n",
    "print(\"- Factual queries:\")\n",
    "display(tg.get_factual_queries())"
   ]
  },
  {
   "cell_type": "code",
   "execution_count": null,
   "id": "ef2003c8-77ce-42ce-9e67-82bb0520ab29",
   "metadata": {},
   "outputs": [],
   "source": [
    "cf_1, cf_0 = tg.get_counterfactual_queries()\n",
    "print(\"- Counterfactual queries (cause = True):\")\n",
    "for key,val in cf_1.items():\n",
    "    print(\"\\n-----------------------\")\n",
    "    print(\"\\n-- {} --\".format(key))\n",
    "    print(\"Prompt:\", val.get(\"Prompt\"))\n",
    "    print(\"True endogenous:\", val.get(\"True endogenous\"))\n",
    "    print(\"True exogenous:\", val.get(\"True exogenous\"))\n",
    "    print(\"True response:\", val.get(\"True response\"))\n",
    "print(\"\\n-----------------------\")"
   ]
  },
  {
   "cell_type": "code",
   "execution_count": null,
   "id": "9ad0aabe-ee40-4719-823a-8ee2ef1cb539",
   "metadata": {},
   "outputs": [],
   "source": [
    "print(\"- Counterfactual queries (cause = False):\")\n",
    "for key,val in cf_0.items():\n",
    "    print(\"\\n-----------------------\")\n",
    "    print(\"\\n-- {} --\".format(key))\n",
    "    print(\"Prompt:\", val.get(\"Prompt\"))\n",
    "    print(\"True endogenous:\", val.get(\"True endogenous\"))\n",
    "    print(\"True exogenous:\", val.get(\"True exogenous\"))\n",
    "    print(\"True response:\", val.get(\"True response\"))\n",
    "print(\"\\n-----------------------\")"
   ]
  },
  {
   "cell_type": "code",
   "execution_count": null,
   "id": "23a15ed0-a75e-4999-871e-681a4539b2fc",
   "metadata": {},
   "outputs": [],
   "source": [
    "# Test observational data generation.\n",
    "df_obs, df_noise = tg.sample_scm(n = 5,\n",
    "                                 intervene_node = None,\n",
    "                                 intervene_value = 0)\n",
    "display(df_obs.head())\n",
    "display(df_noise.head())"
   ]
  },
  {
   "cell_type": "code",
   "execution_count": null,
   "id": "a8dfb4e9-5ebb-4aea-8605-9788986bc791",
   "metadata": {},
   "outputs": [],
   "source": [
    "# Test counterfactual data generation.\n",
    "causes = set([x[0] for x in [tg.get_global()]+tg.get_local()])\n",
    "intervene_value = 1\n",
    "for cause in causes:\n",
    "    print(\"\\n-- {} = {} --\".format(cause,intervene_value))\n",
    "    df_obs, df_noise = tg.sample_scm(n = 5,\n",
    "                                     intervene_node = cause,\n",
    "                                     intervene_value = intervene_value)\n",
    "    display(df_obs.head())\n",
    "    display(df_noise.head())"
   ]
  },
  {
   "cell_type": "code",
   "execution_count": null,
   "id": "72551c5b-3830-4318-b9b2-0b6d77770bbe",
   "metadata": {},
   "outputs": [],
   "source": [
    "# Test counterfactual data generation.\n",
    "causes = set([x[0] for x in [tg.get_global()]+tg.get_local()])\n",
    "intervene_value = 0\n",
    "for cause in causes:\n",
    "    print(\"\\n-- {} = {} --\".format(cause,intervene_value))\n",
    "    df_obs, df_noise = tg.sample_scm(n = 5,\n",
    "                                     intervene_node = cause,\n",
    "                                     intervene_value = intervene_value)\n",
    "    display(df_obs.head())\n",
    "    display(df_noise.head())"
   ]
  },
  {
   "cell_type": "markdown",
   "id": "29b30351-22d5-498d-ab25-58189f179c30",
   "metadata": {},
   "source": [
    "## Error test (moderate complexity)"
   ]
  },
  {
   "cell_type": "code",
   "execution_count": null,
   "id": "d7eeeffe-4ebb-4ccf-afac-1a8ebf73da41",
   "metadata": {},
   "outputs": [],
   "source": [
    "size = [[3,3],[3,3],[3,3]]\n",
    "tg = CellBio(n_per_bcc = size, \n",
    "                   bcc_types = [\"cycle\"]*len(size))\n",
    "'''\n",
    "context = tg.get_causal_context()\n",
    "patient_history = tg.get_sample_context(n_extra_vars = 2)\n",
    "print()\n",
    "print(\"Context:\", context)\n",
    "print()\n",
    "print(\"Patient history:\", patient_history)\n",
    "print()\n",
    "print(\"- Global cause-effect pairs:\", tg.get_global())\n",
    "print(\"- Local cause-effect pairs:\", tg.get_local())\n",
    "print(\"- Compositions:\", tg.get_compositions())\n",
    "'''"
   ]
  },
  {
   "cell_type": "code",
   "execution_count": null,
   "id": "4be62af0-976e-427d-9cb1-6ae41dde558f",
   "metadata": {},
   "outputs": [],
   "source": [
    "print()\n",
    "print(\"- Factual queries:\")\n",
    "display(tg.get_factual_queries())"
   ]
  },
  {
   "cell_type": "code",
   "execution_count": null,
   "id": "967ffc2a-d399-412c-8cb8-1165393aa1f2",
   "metadata": {},
   "outputs": [],
   "source": [
    "cf_1, cf_0 = tg.get_counterfactual_queries()\n",
    "print(\"- Counterfactual queries (cause = True):\")\n",
    "for key,val in cf_1.items():\n",
    "    print(\"\\n-----------------------\")\n",
    "    print(\"\\n-- {} --\".format(key))\n",
    "    print(\"Prompt:\", val.get(\"Prompt\"))\n",
    "    print(\"True endogenous:\", val.get(\"True endogenous\"))\n",
    "    print(\"True exogenous:\", val.get(\"True exogenous\"))\n",
    "    print(\"True response:\", val.get(\"True response\"))\n",
    "print(\"\\n-----------------------\")"
   ]
  },
  {
   "cell_type": "code",
   "execution_count": null,
   "id": "fcb5c8b1-42b7-4b9c-99bd-d6186a8b8a04",
   "metadata": {},
   "outputs": [],
   "source": [
    "print(\"- Counterfactual queries (cause = False):\")\n",
    "for key,val in cf_0.items():\n",
    "    print(\"\\n-----------------------\")\n",
    "    print(\"\\n-- {} --\".format(key))\n",
    "    print(\"Prompt:\", val.get(\"Prompt\"))\n",
    "    print(\"True endogenous:\", val.get(\"True endogenous\"))\n",
    "    print(\"True exogenous:\", val.get(\"True exogenous\"))\n",
    "    print(\"True response:\", val.get(\"True response\"))\n",
    "print(\"\\n-----------------------\")"
   ]
  },
  {
   "cell_type": "code",
   "execution_count": null,
   "id": "a7cf9d93-7017-43f6-9b62-2e422c518572",
   "metadata": {},
   "outputs": [],
   "source": [
    "# Test observational data generation.\n",
    "df_obs, df_noise = tg.sample_scm(n = 5,\n",
    "                                 intervene_node = None,\n",
    "                                 intervene_value = 0)\n",
    "display(df_obs.head())\n",
    "display(df_noise.head())"
   ]
  },
  {
   "cell_type": "code",
   "execution_count": null,
   "id": "f12ebff0-6c10-4f7d-aa12-d7d6373df181",
   "metadata": {},
   "outputs": [],
   "source": [
    "# Test counterfactual data generation.\n",
    "causes = set([x[0] for x in [tg.get_global()]+tg.get_local()])\n",
    "intervene_value = 1\n",
    "for cause in causes:\n",
    "    print(\"\\n-- {} = {} --\".format(cause,intervene_value))\n",
    "    df_obs, df_noise = tg.sample_scm(n = 5,\n",
    "                                     intervene_node = cause,\n",
    "                                     intervene_value = intervene_value)\n",
    "    display(df_obs.head())\n",
    "    display(df_noise.head())"
   ]
  },
  {
   "cell_type": "code",
   "execution_count": null,
   "id": "1ac50320-4cf3-4b38-8cc8-23a7545b94a3",
   "metadata": {},
   "outputs": [],
   "source": [
    "# Test counterfactual data generation.\n",
    "causes = set([x[0] for x in [tg.get_global()]+tg.get_local()])\n",
    "intervene_value = 0\n",
    "for cause in causes:\n",
    "    print(\"\\n-- {} = {} --\".format(cause,intervene_value))\n",
    "    df_obs, df_noise = tg.sample_scm(n = 5,\n",
    "                                     intervene_node = cause,\n",
    "                                     intervene_value = intervene_value)\n",
    "    display(df_obs.head())\n",
    "    display(df_noise.head())"
   ]
  },
  {
   "cell_type": "code",
   "execution_count": null,
   "id": "b5221b9f-087b-46b6-97be-69ebcbc938ed",
   "metadata": {},
   "outputs": [],
   "source": [
    "glo = [tg.get_global()]\n",
    "loc = tg.get_local()\n",
    "comp = tg.get_compositions()\n",
    "\n",
    "print(glo)\n",
    "print(loc)\n",
    "print(comp)"
   ]
  },
  {
   "cell_type": "code",
   "execution_count": null,
   "id": "df882dbf-d964-472a-bb0e-a2eb84279019",
   "metadata": {},
   "outputs": [],
   "source": [
    "# Get PNS and compare to ATE.\n",
    "results_dict = dict()\n",
    "for n in [5,10,50,100,500,1000,5000]:\n",
    "    pair_dict = dict()\n",
    "    for pair in glo+loc:\n",
    "        df_cf, df_noise = tg.sample_scm(n = n,\n",
    "                                        intervene_node = pair[0],\n",
    "                                        intervene_value = 1)\n",
    "        df_cf.rename(columns={pair[1]: 'True (cause = True)'}, inplace = True)\n",
    "        df_cf_0, df_noise = tg.sample_scm(n = n,\n",
    "                                          intervene_node = pair[0],\n",
    "                                          intervene_value = 0)\n",
    "        df_cf[\"True (cause = False)\"] = df_cf_0[pair[1]]\n",
    "        display(df_cf.head(5))\n",
    "        print(\"\\n-- {} | n = {} --\".format(pair,n))\n",
    "        pns = dg.get_pns_ate(df_cf)\n",
    "        pair_dict[pair] = pns\n",
    "    results_dict[n] = pair_dict"
   ]
  },
  {
   "cell_type": "code",
   "execution_count": null,
   "id": "3dd8543d-b971-42b7-b33d-3826bb908546",
   "metadata": {},
   "outputs": [],
   "source": [
    "for n,res in results_dict.items():\n",
    "    print(\"\\n-- n = {} --\".format(n))\n",
    "    comp_pns = 1\n",
    "    for pair,pns in res.items():\n",
    "        if pair == glo[0]:\n",
    "            global_pns = pns\n",
    "        else:\n",
    "            comp_pns *= pns\n",
    "    print(\"Global PNS  =\", global_pns)\n",
    "    print(\"Composition =\", comp_pns)"
   ]
  },
  {
   "cell_type": "code",
   "execution_count": null,
   "id": "60b44a8c-cad9-428f-8a90-3252c0206a87",
   "metadata": {},
   "outputs": [],
   "source": [
    "results_dict"
   ]
  },
  {
   "cell_type": "markdown",
   "id": "c5723bb5-495f-4852-b117-2098414694f3",
   "metadata": {},
   "source": [
    "## Error test (high complexity)"
   ]
  },
  {
   "cell_type": "code",
   "execution_count": null,
   "id": "744901eb-956b-4980-87ca-016a67a78c8a",
   "metadata": {},
   "outputs": [],
   "source": [
    "size = [[3,5],[3,4,3],[4,4,4]]\n",
    "tg = CellBio(n_per_bcc = size, \n",
    "                   bcc_types = [\"wheel\"]*len(size))\n",
    "'''\n",
    "context = tg.get_causal_context()\n",
    "patient_history = tg.get_sample_context(n_extra_vars = 2)\n",
    "print()\n",
    "print(\"Context:\", context)\n",
    "print()\n",
    "print(\"Patient history:\", patient_history)\n",
    "print()\n",
    "print(\"- Global cause-effect pairs:\", tg.get_global())\n",
    "print(\"- Local cause-effect pairs:\", tg.get_local())\n",
    "print(\"- Compositions:\", tg.get_compositions())\n",
    "'''"
   ]
  },
  {
   "cell_type": "code",
   "execution_count": null,
   "id": "af6b8b78-8ae9-49fa-b6d9-4314b8b3cd82",
   "metadata": {},
   "outputs": [],
   "source": [
    "print(tg.exog_names)\n",
    "print(tg.exog_true_binary)\n",
    "print(tg.alleles_obs)\n",
    "print(tg.fam_hist_obs)\n",
    "print(tg.prev_surg_obs)"
   ]
  },
  {
   "cell_type": "markdown",
   "id": "8311958e-3c4b-4963-ba7c-fe20cc0b95d9",
   "metadata": {},
   "source": [
    "## Generate dataset"
   ]
  },
  {
   "cell_type": "code",
   "execution_count": null,
   "id": "de53cf7e-85b2-4580-9728-1a62e0bc678a",
   "metadata": {},
   "outputs": [],
   "source": [
    "# x levels of graphical complexity (captured by BCC size).\n",
    "# y tasks per graphical complexity level.\n",
    "# z samples per task.\n",
    "# w replicates per sample.\n",
    "# = x*y*z*w subtasks.\n",
    "graph_sizes = [[2,2],[3,3],[4,4]]\n",
    "n_tasks_per_size = 3\n",
    "n_samples_per_task = 1000\n",
    "reps_per_sample = 5\n",
    "\n",
    "df = dg.get_dataset(task_generator = CellBio,\n",
    "                    graph_sizes = graph_sizes,\n",
    "                    n_tasks_per_size = n_tasks_per_size,\n",
    "                    n_samples_per_task = n_samples_per_task, \n",
    "                    reps_per_sample = reps_per_sample)\n",
    "\n",
    "display(df)"
   ]
  },
  {
   "cell_type": "code",
   "execution_count": null,
   "id": "2ddd3159-e622-48e6-ac74-7eabca2abe03",
   "metadata": {},
   "outputs": [],
   "source": [
    "# Process prompts.\n",
    "df_factual, df_cf = dg.process_prompts()\n",
    "display(df_factual)\n",
    "display(df_cf)"
   ]
  },
  {
   "cell_type": "code",
   "execution_count": null,
   "id": "bd6e4e47-62bf-4ecc-b1f5-96f864bd0226",
   "metadata": {},
   "outputs": [],
   "source": [
    "pns_dict = dg.get_pns_dict(verbose = True)\n",
    "pns_dict"
   ]
  },
  {
   "cell_type": "code",
   "execution_count": null,
   "id": "3cde6ba8-f287-4ecc-a132-329b3214937d",
   "metadata": {},
   "outputs": [],
   "source": [
    "threshold_dict = dg.get_internal_consistency_thresholds(multiplier = 1.25)\n",
    "threshold_dict"
   ]
  },
  {
   "cell_type": "code",
   "execution_count": null,
   "id": "ea6a457b-1265-464b-a0f4-337c2d6cc391",
   "metadata": {},
   "outputs": [],
   "source": [
    "# Test save and load with numpy.\n",
    "np.save(\"clinical_notes_threshold_dict.npy\", threshold_dict) \n",
    "read_dictionary = np.load(\"clinical_notes_threshold_dict.npy\",\n",
    "                          allow_pickle = \"TRUE\").item()\n",
    "display(read_dictionary)"
   ]
  },
  {
   "cell_type": "code",
   "execution_count": null,
   "id": "924afb91-8983-4065-8ea4-21bc848d9914",
   "metadata": {},
   "outputs": [],
   "source": [
    "df_cf[df_cf[\"Context ID\"] == 0]"
   ]
  },
  {
   "cell_type": "code",
   "execution_count": null,
   "id": "e3ae28fd-909e-4c98-85cf-86288d9c6ea7",
   "metadata": {},
   "outputs": [],
   "source": [
    "df_cf[(df_cf[\"Context ID\"] == 0) & (df_cf[\"Cause-effect pair\"] == (\"pain\", \"surgery\"))]"
   ]
  },
  {
   "cell_type": "code",
   "execution_count": null,
   "id": "b601cc7d-8760-4be9-b271-06d6753194a2",
   "metadata": {},
   "outputs": [],
   "source": [
    "df_cf[(df_cf[\"Context ID\"] == 1) & (df_cf[\"Cause-effect pair\"] == (\"pain\", \"surgery\"))]"
   ]
  },
  {
   "cell_type": "markdown",
   "id": "69e89960-0c34-4e61-929d-85cf64ef49e6",
   "metadata": {},
   "source": [
    "## End of document"
   ]
  },
  {
   "cell_type": "code",
   "execution_count": null,
   "id": "52719e21-1d4c-4024-afbc-6972db863e63",
   "metadata": {},
   "outputs": [],
   "source": []
  }
 ],
 "metadata": {
  "kernelspec": {
   "display_name": "ICP",
   "language": "python",
   "name": "icp"
  },
  "language_info": {
   "codemirror_mode": {
    "name": "ipython",
    "version": 3
   },
   "file_extension": ".py",
   "mimetype": "text/x-python",
   "name": "python",
   "nbconvert_exporter": "python",
   "pygments_lexer": "ipython3",
   "version": "3.10.13"
  }
 },
 "nbformat": 4,
 "nbformat_minor": 5
}
