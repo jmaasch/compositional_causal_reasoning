{
 "cells": [
  {
   "cell_type": "markdown",
   "id": "2ed51994-5667-40e7-9696-9f726b4a9b09",
   "metadata": {},
   "source": [
    "# Errors with and without CoT"
   ]
  },
  {
   "cell_type": "code",
   "execution_count": 1,
   "id": "31963ded-9deb-4923-943d-d0633a131574",
   "metadata": {},
   "outputs": [
    {
     "name": "stdout",
     "output_type": "stream",
     "text": [
      "python version     : 3.10.13\n",
      "numpy version      : 1.26.3\n",
      "pandas version     : 2.1.4\n",
      "matplotlib version : 3.8.0\n",
      "seaborn version    : 0.12.2\n"
     ]
    }
   ],
   "source": [
    "# General importations.\n",
    "import pandas as pd\n",
    "import numpy as np\n",
    "import matplotlib\n",
    "import matplotlib.pyplot as plt\n",
    "import seaborn as sns\n",
    "from scipy import stats\n",
    "import platform\n",
    "import time\n",
    "import warnings\n",
    "import math\n",
    "\n",
    "import networkx as nx\n",
    "\n",
    "# View versioning.\n",
    "print(\"python version     :\", platform.python_version())\n",
    "print(\"numpy version      :\", np.__version__)\n",
    "print(\"pandas version     :\", pd.__version__)\n",
    "print(\"matplotlib version :\", matplotlib.__version__)\n",
    "print(\"seaborn version    :\", sns.__version__)"
   ]
  },
  {
   "cell_type": "markdown",
   "id": "0aa5a771-b3f7-4170-80f3-364820026706",
   "metadata": {},
   "source": [
    "## Read data"
   ]
  },
  {
   "cell_type": "code",
   "execution_count": 2,
   "id": "8df36108-7ff8-40a8-8906-d8f56e510fb4",
   "metadata": {},
   "outputs": [
    {
     "name": "stdout",
     "output_type": "stream",
     "text": [
      "<class 'pandas.core.frame.DataFrame'>\n",
      "RangeIndex: 66000 entries, 0 to 65999\n",
      "Data columns (total 6 columns):\n",
      " #   Column     Non-Null Count  Dtype  \n",
      "---  ------     --------------  -----  \n",
      " 0   Quantity   66000 non-null  object \n",
      " 1   Error      66000 non-null  float64\n",
      " 2   Model      66000 non-null  object \n",
      " 3   Mediators  66000 non-null  int64  \n",
      " 4   Distance   66000 non-null  int64  \n",
      " 5   Type       66000 non-null  object \n",
      "dtypes: float64(1), int64(2), object(3)\n",
      "memory usage: 3.0+ MB\n",
      "None\n"
     ]
    },
    {
     "data": {
      "text/html": [
       "<div>\n",
       "<style scoped>\n",
       "    .dataframe tbody tr th:only-of-type {\n",
       "        vertical-align: middle;\n",
       "    }\n",
       "\n",
       "    .dataframe tbody tr th {\n",
       "        vertical-align: top;\n",
       "    }\n",
       "\n",
       "    .dataframe thead th {\n",
       "        text-align: right;\n",
       "    }\n",
       "</style>\n",
       "<table border=\"1\" class=\"dataframe\">\n",
       "  <thead>\n",
       "    <tr style=\"text-align: right;\">\n",
       "      <th></th>\n",
       "      <th>Quantity</th>\n",
       "      <th>Error</th>\n",
       "      <th>Model</th>\n",
       "      <th>Mediators</th>\n",
       "      <th>Distance</th>\n",
       "      <th>Type</th>\n",
       "    </tr>\n",
       "  </thead>\n",
       "  <tbody>\n",
       "    <tr>\n",
       "      <th>0</th>\n",
       "      <td>XY</td>\n",
       "      <td>11.407407</td>\n",
       "      <td>Phi-3</td>\n",
       "      <td>6</td>\n",
       "      <td>3</td>\n",
       "      <td>Global</td>\n",
       "    </tr>\n",
       "    <tr>\n",
       "      <th>1</th>\n",
       "      <td>XC</td>\n",
       "      <td>0.438095</td>\n",
       "      <td>Phi-3</td>\n",
       "      <td>2</td>\n",
       "      <td>1</td>\n",
       "      <td>Local</td>\n",
       "    </tr>\n",
       "    <tr>\n",
       "      <th>2</th>\n",
       "      <td>XD</td>\n",
       "      <td>1.191667</td>\n",
       "      <td>Phi-3</td>\n",
       "      <td>3</td>\n",
       "      <td>2</td>\n",
       "      <td>Local</td>\n",
       "    </tr>\n",
       "    <tr>\n",
       "      <th>3</th>\n",
       "      <td>CY</td>\n",
       "      <td>1.463768</td>\n",
       "      <td>Phi-3</td>\n",
       "      <td>3</td>\n",
       "      <td>2</td>\n",
       "      <td>Local</td>\n",
       "    </tr>\n",
       "    <tr>\n",
       "      <th>4</th>\n",
       "      <td>DY</td>\n",
       "      <td>0.808219</td>\n",
       "      <td>Phi-3</td>\n",
       "      <td>2</td>\n",
       "      <td>1</td>\n",
       "      <td>Local</td>\n",
       "    </tr>\n",
       "  </tbody>\n",
       "</table>\n",
       "</div>"
      ],
      "text/plain": [
       "  Quantity      Error  Model  Mediators  Distance    Type\n",
       "0       XY  11.407407  Phi-3          6         3  Global\n",
       "1       XC   0.438095  Phi-3          2         1   Local\n",
       "2       XD   1.191667  Phi-3          3         2   Local\n",
       "3       CY   1.463768  Phi-3          3         2   Local\n",
       "4       DY   0.808219  Phi-3          2         1   Local"
      ]
     },
     "metadata": {},
     "output_type": "display_data"
    }
   ],
   "source": [
    "df = pd.read_csv(\"df_errors_local.csv\")\n",
    "print(df.info())\n",
    "display(df.head())"
   ]
  },
  {
   "cell_type": "code",
   "execution_count": 4,
   "id": "26348473-6372-424e-b342-5cd1636ef938",
   "metadata": {},
   "outputs": [
    {
     "data": {
      "text/plain": [
       "array(['GPT-4o', 'GPT-4o CoT', 'Llama 2', 'Llama 3', 'Llama 3.1',\n",
       "       'Llama 3.1 CoT', 'Llama 3.1 Math', 'Llama 3.1 Math CoT', 'Phi-3',\n",
       "       'o1', 'o1 CoT'], dtype=object)"
      ]
     },
     "execution_count": 4,
     "metadata": {},
     "output_type": "execute_result"
    }
   ],
   "source": [
    "np.unique(df.Model)"
   ]
  },
  {
   "cell_type": "code",
   "execution_count": 6,
   "id": "4801038c-b7e6-4834-96fd-9eb07674de56",
   "metadata": {},
   "outputs": [
    {
     "data": {
      "text/plain": [
       "array(['CD', 'CY', 'DY', 'XC', 'XD', 'XY'], dtype=object)"
      ]
     },
     "execution_count": 6,
     "metadata": {},
     "output_type": "execute_result"
    }
   ],
   "source": [
    "np.unique(df.Quantity)"
   ]
  },
  {
   "cell_type": "code",
   "execution_count": 5,
   "id": "31632be0-eacb-4bd5-83d9-0ee7c72f07ed",
   "metadata": {},
   "outputs": [],
   "source": [
    "df_llama = df[df.Model == \"Llama 3.1\"]\n",
    "df_llama_cot = df[df.Model == \"Llama 3.1 CoT\"]\n",
    "df_llama_math = df[df.Model == \"Llama 3.1 Math\"]\n",
    "df_llama_math_cot = df[df.Model == \"Llama 3.1 Math CoT\"]\n",
    "df_gpt4o = df[df.Model == \"GPT-4o\"]\n",
    "df_gpt4o_cot = df[df.Model == \"GPT-4o CoT\"]\n",
    "df_o1 = df[df.Model == \"o1\"]\n",
    "df_o1_cot = df[df.Model == \"o1 CoT\"]"
   ]
  },
  {
   "cell_type": "code",
   "execution_count": 7,
   "id": "6b0f99b6-91af-4f27-a703-222295476127",
   "metadata": {},
   "outputs": [],
   "source": [
    "quantities = ['CD', 'CY', 'DY', 'XC', 'XD', 'XY']"
   ]
  },
  {
   "cell_type": "markdown",
   "id": "3b998fd0-0f23-42f1-9029-ff38082effdd",
   "metadata": {},
   "source": [
    "## Define test"
   ]
  },
  {
   "cell_type": "code",
   "execution_count": 47,
   "id": "11e22338-5440-423f-b56a-7dd535f86072",
   "metadata": {},
   "outputs": [],
   "source": [
    "def test_errors(df, df_cot, alpha = 0.05, test = \"wilcoxon\"):\n",
    "    for q in quantities:\n",
    "        errors = df[df.Quantity == q].Error.to_numpy()\n",
    "        errors_cot = df_cot[df_cot.Quantity == q].Error.to_numpy()\n",
    "\n",
    "        # Use Wilcoxon test.\n",
    "        # https://docs.scipy.org/doc/scipy/reference/generated/scipy.stats.wilcoxon.html\n",
    "        if test == \"wilcoxon\":\n",
    "            p = stats.wilcoxon(errors, errors_cot).pvalue\n",
    "            if p <= alpha:\n",
    "                print(q, \": Errors from CoT are significantly different.\")\n",
    "            else: \n",
    "                print(q, \": Paired samples come from the same distribution.\")\n",
    "\n",
    "        # Use t-test (stricter assumptions).\n",
    "        # https://docs.scipy.org/doc/scipy/reference/generated/scipy.stats.ttest_ind.html\n",
    "        elif test == \"t-test\":\n",
    "            # Test null hypothesis that a sample comes from a normal distribution.\n",
    "            p = stats.normaltest(errors).pvalue\n",
    "            p_cot = stats.normaltest(errors_cot).pvalue\n",
    "            if p <= alpha:\n",
    "                warnings.warn(\"Errors for {} may not be normally distributed: {} <= {}\".format(q,p,alpha))\n",
    "            if p_cot <= alpha:\n",
    "                warnings.warn(\"Errors for {} with CoT may not be normally distributed: {} <= {}\".format(q,p_cot,alpha))\n",
    "            p = stats.ttest_ind(errors, errors_cot).pvalue\n",
    "            if p <= alpha:\n",
    "                print(q, \": Errors from CoT are significantly different.\")\n",
    "            else: \n",
    "                print(q, \": Paired samples come from the same distribution.\")"
   ]
  },
  {
   "cell_type": "markdown",
   "id": "f9431fa5-4d93-4138-81ea-041988a7b5f6",
   "metadata": {},
   "source": [
    "## Test Llama 3.1"
   ]
  },
  {
   "cell_type": "code",
   "execution_count": 48,
   "id": "4921c439-599a-4d88-ab61-7324d203c993",
   "metadata": {},
   "outputs": [
    {
     "name": "stdout",
     "output_type": "stream",
     "text": [
      "CD : Errors from CoT are significantly different.\n",
      "CY : Errors from CoT are significantly different.\n",
      "DY : Errors from CoT are significantly different.\n",
      "XC : Errors from CoT are significantly different.\n",
      "XD : Errors from CoT are significantly different.\n",
      "XY : Errors from CoT are significantly different.\n"
     ]
    }
   ],
   "source": [
    "test_errors(df_llama, df_llama_cot, test = \"wilcoxon\")"
   ]
  },
  {
   "cell_type": "code",
   "execution_count": 49,
   "id": "1059731e-7651-4ee8-b0ba-d5fa8339e4a5",
   "metadata": {},
   "outputs": [
    {
     "name": "stdout",
     "output_type": "stream",
     "text": [
      "CD : Errors from CoT are significantly different.\n",
      "CY : Errors from CoT are significantly different.\n",
      "DY : Errors from CoT are significantly different.\n",
      "XC : Errors from CoT are significantly different.\n",
      "XD : Errors from CoT are significantly different.\n",
      "XY : Errors from CoT are significantly different.\n"
     ]
    },
    {
     "name": "stderr",
     "output_type": "stream",
     "text": [
      "/var/folders/mr/d0d9lh3x2bb7vq5smg_6bmzr0000gn/T/ipykernel_71662/984802418.py:24: UserWarning: Errors for CY with CoT may not be normally distributed: 3.587768931744568e-18 <= 0.05\n",
      "  warnings.warn(\"Errors for {} with CoT may not be normally distributed: {} <= {}\".format(q,p_cot,alpha))\n",
      "/var/folders/mr/d0d9lh3x2bb7vq5smg_6bmzr0000gn/T/ipykernel_71662/984802418.py:24: UserWarning: Errors for DY with CoT may not be normally distributed: 3.54788936106852e-11 <= 0.05\n",
      "  warnings.warn(\"Errors for {} with CoT may not be normally distributed: {} <= {}\".format(q,p_cot,alpha))\n",
      "/var/folders/mr/d0d9lh3x2bb7vq5smg_6bmzr0000gn/T/ipykernel_71662/984802418.py:22: UserWarning: Errors for XC may not be normally distributed: 0.002050972187003367 <= 0.05\n",
      "  warnings.warn(\"Errors for {} may not be normally distributed: {} <= {}\".format(q,p,alpha))\n"
     ]
    }
   ],
   "source": [
    "test_errors(df_llama, df_llama_cot, test = \"t-test\")"
   ]
  },
  {
   "cell_type": "markdown",
   "id": "f1e50d8f-ac6b-4d9a-a677-92d0b81a2c06",
   "metadata": {},
   "source": [
    "## Test Llama 3.1 Math"
   ]
  },
  {
   "cell_type": "code",
   "execution_count": 50,
   "id": "e360e27e-f180-484f-bc01-178fec82a5e6",
   "metadata": {},
   "outputs": [
    {
     "name": "stdout",
     "output_type": "stream",
     "text": [
      "CD : Errors from CoT are significantly different.\n",
      "CY : Errors from CoT are significantly different.\n",
      "DY : Errors from CoT are significantly different.\n",
      "XC : Errors from CoT are significantly different.\n",
      "XD : Errors from CoT are significantly different.\n",
      "XY : Errors from CoT are significantly different.\n"
     ]
    }
   ],
   "source": [
    "test_errors(df_llama_math, df_llama_math_cot, test = \"wilcoxon\")"
   ]
  },
  {
   "cell_type": "code",
   "execution_count": 51,
   "id": "12413adc-c349-4e27-8d6d-383d5c5bb9bf",
   "metadata": {},
   "outputs": [
    {
     "name": "stdout",
     "output_type": "stream",
     "text": [
      "CD : Errors from CoT are significantly different.\n",
      "CY : Errors from CoT are significantly different.\n",
      "DY : Errors from CoT are significantly different.\n",
      "XC : Errors from CoT are significantly different.\n",
      "XD : Errors from CoT are significantly different.\n",
      "XY : Errors from CoT are significantly different.\n"
     ]
    },
    {
     "name": "stderr",
     "output_type": "stream",
     "text": [
      "/var/folders/mr/d0d9lh3x2bb7vq5smg_6bmzr0000gn/T/ipykernel_71662/984802418.py:22: UserWarning: Errors for CD may not be normally distributed: 2.6959226306398517e-28 <= 0.05\n",
      "  warnings.warn(\"Errors for {} may not be normally distributed: {} <= {}\".format(q,p,alpha))\n",
      "/var/folders/mr/d0d9lh3x2bb7vq5smg_6bmzr0000gn/T/ipykernel_71662/984802418.py:24: UserWarning: Errors for CD with CoT may not be normally distributed: 0.017659708359676556 <= 0.05\n",
      "  warnings.warn(\"Errors for {} with CoT may not be normally distributed: {} <= {}\".format(q,p_cot,alpha))\n",
      "/var/folders/mr/d0d9lh3x2bb7vq5smg_6bmzr0000gn/T/ipykernel_71662/984802418.py:22: UserWarning: Errors for CY may not be normally distributed: 0.00016051376109912707 <= 0.05\n",
      "  warnings.warn(\"Errors for {} may not be normally distributed: {} <= {}\".format(q,p,alpha))\n",
      "/var/folders/mr/d0d9lh3x2bb7vq5smg_6bmzr0000gn/T/ipykernel_71662/984802418.py:22: UserWarning: Errors for DY may not be normally distributed: 0.02209778520387752 <= 0.05\n",
      "  warnings.warn(\"Errors for {} may not be normally distributed: {} <= {}\".format(q,p,alpha))\n",
      "/var/folders/mr/d0d9lh3x2bb7vq5smg_6bmzr0000gn/T/ipykernel_71662/984802418.py:24: UserWarning: Errors for DY with CoT may not be normally distributed: 3.839458511487953e-11 <= 0.05\n",
      "  warnings.warn(\"Errors for {} with CoT may not be normally distributed: {} <= {}\".format(q,p_cot,alpha))\n",
      "/var/folders/mr/d0d9lh3x2bb7vq5smg_6bmzr0000gn/T/ipykernel_71662/984802418.py:22: UserWarning: Errors for XC may not be normally distributed: 0.00048318034583450404 <= 0.05\n",
      "  warnings.warn(\"Errors for {} may not be normally distributed: {} <= {}\".format(q,p,alpha))\n",
      "/var/folders/mr/d0d9lh3x2bb7vq5smg_6bmzr0000gn/T/ipykernel_71662/984802418.py:24: UserWarning: Errors for XC with CoT may not be normally distributed: 1.3135122566972584e-27 <= 0.05\n",
      "  warnings.warn(\"Errors for {} with CoT may not be normally distributed: {} <= {}\".format(q,p_cot,alpha))\n",
      "/Users/jmaasch/anaconda3/envs/icp/lib/python3.10/site-packages/scipy/stats/_stats_py.py:1606: RuntimeWarning: Precision loss occurred in moment calculation due to catastrophic cancellation. This occurs when the data are nearly identical. Results may be unreliable.\n",
      "  b2 = skew(a, axis)\n",
      "/Users/jmaasch/anaconda3/envs/icp/lib/python3.10/site-packages/scipy/stats/_stats_py.py:1808: RuntimeWarning: Precision loss occurred in moment calculation due to catastrophic cancellation. This occurs when the data are nearly identical. Results may be unreliable.\n",
      "  b2 = kurtosis(a, axis, fisher=False)\n",
      "/Users/jmaasch/anaconda3/envs/icp/lib/python3.10/site-packages/scipy/stats/_axis_nan_policy.py:523: RuntimeWarning: Precision loss occurred in moment calculation due to catastrophic cancellation. This occurs when the data are nearly identical. Results may be unreliable.\n",
      "  res = hypotest_fun_out(*samples, **kwds)\n",
      "/var/folders/mr/d0d9lh3x2bb7vq5smg_6bmzr0000gn/T/ipykernel_71662/984802418.py:22: UserWarning: Errors for XY may not be normally distributed: 0.0 <= 0.05\n",
      "  warnings.warn(\"Errors for {} may not be normally distributed: {} <= {}\".format(q,p,alpha))\n"
     ]
    }
   ],
   "source": [
    "test_errors(df_llama_math, df_llama_math_cot, test = \"t-test\")"
   ]
  },
  {
   "cell_type": "markdown",
   "id": "95298846-a8d5-4810-9544-6f0929dad144",
   "metadata": {},
   "source": [
    "## Test GPT-4o"
   ]
  },
  {
   "cell_type": "code",
   "execution_count": 52,
   "id": "3c6cd4fb-1f3b-48c2-9f79-6c492cd843ab",
   "metadata": {},
   "outputs": [
    {
     "name": "stdout",
     "output_type": "stream",
     "text": [
      "CD : Errors from CoT are significantly different.\n",
      "CY : Errors from CoT are significantly different.\n",
      "DY : Errors from CoT are significantly different.\n",
      "XC : Errors from CoT are significantly different.\n",
      "XD : Errors from CoT are significantly different.\n",
      "XY : Errors from CoT are significantly different.\n"
     ]
    }
   ],
   "source": [
    "test_errors(df_gpt4o, df_gpt4o_cot, test = \"wilcoxon\")"
   ]
  },
  {
   "cell_type": "code",
   "execution_count": 53,
   "id": "b820ff4e-d343-4a8c-9b70-2b5185a4f198",
   "metadata": {},
   "outputs": [
    {
     "name": "stdout",
     "output_type": "stream",
     "text": [
      "CD : Errors from CoT are significantly different.\n",
      "CY : Errors from CoT are significantly different.\n",
      "DY : Errors from CoT are significantly different.\n",
      "XC : Errors from CoT are significantly different.\n",
      "XD : Errors from CoT are significantly different.\n",
      "XY : Errors from CoT are significantly different.\n"
     ]
    },
    {
     "name": "stderr",
     "output_type": "stream",
     "text": [
      "/var/folders/mr/d0d9lh3x2bb7vq5smg_6bmzr0000gn/T/ipykernel_71662/984802418.py:24: UserWarning: Errors for CY with CoT may not be normally distributed: 2.351965476914054e-05 <= 0.05\n",
      "  warnings.warn(\"Errors for {} with CoT may not be normally distributed: {} <= {}\".format(q,p_cot,alpha))\n",
      "/var/folders/mr/d0d9lh3x2bb7vq5smg_6bmzr0000gn/T/ipykernel_71662/984802418.py:24: UserWarning: Errors for XC with CoT may not be normally distributed: 0.005024462167254849 <= 0.05\n",
      "  warnings.warn(\"Errors for {} with CoT may not be normally distributed: {} <= {}\".format(q,p_cot,alpha))\n",
      "/var/folders/mr/d0d9lh3x2bb7vq5smg_6bmzr0000gn/T/ipykernel_71662/984802418.py:24: UserWarning: Errors for XD with CoT may not be normally distributed: 0.03669977769479891 <= 0.05\n",
      "  warnings.warn(\"Errors for {} with CoT may not be normally distributed: {} <= {}\".format(q,p_cot,alpha))\n"
     ]
    }
   ],
   "source": [
    "test_errors(df_gpt4o, df_gpt4o_cot, test = \"t-test\")"
   ]
  },
  {
   "cell_type": "markdown",
   "id": "4e7a3de0-c62f-4152-85d9-26cc8b2b305b",
   "metadata": {},
   "source": [
    "## Test o1"
   ]
  },
  {
   "cell_type": "code",
   "execution_count": 54,
   "id": "341f0eff-5f43-48d0-86d8-7055b966e576",
   "metadata": {},
   "outputs": [
    {
     "name": "stdout",
     "output_type": "stream",
     "text": [
      "CD : Errors from CoT are significantly different.\n",
      "CY : Errors from CoT are significantly different.\n",
      "DY : Errors from CoT are significantly different.\n",
      "XC : Errors from CoT are significantly different.\n",
      "XD : Errors from CoT are significantly different.\n"
     ]
    },
    {
     "ename": "ValueError",
     "evalue": "zero_method 'wilcox' and 'pratt' do not work if x - y is zero for all elements.",
     "output_type": "error",
     "traceback": [
      "\u001b[0;31m---------------------------------------------------------------------------\u001b[0m",
      "\u001b[0;31mValueError\u001b[0m                                Traceback (most recent call last)",
      "Cell \u001b[0;32mIn[54], line 1\u001b[0m\n\u001b[0;32m----> 1\u001b[0m \u001b[43mtest_errors\u001b[49m\u001b[43m(\u001b[49m\u001b[43mdf_o1\u001b[49m\u001b[43m,\u001b[49m\u001b[43m \u001b[49m\u001b[43mdf_o1_cot\u001b[49m\u001b[43m,\u001b[49m\u001b[43m \u001b[49m\u001b[43mtest\u001b[49m\u001b[43m \u001b[49m\u001b[38;5;241;43m=\u001b[39;49m\u001b[43m \u001b[49m\u001b[38;5;124;43m\"\u001b[39;49m\u001b[38;5;124;43mwilcoxon\u001b[39;49m\u001b[38;5;124;43m\"\u001b[39;49m\u001b[43m)\u001b[49m\n",
      "Cell \u001b[0;32mIn[47], line 9\u001b[0m, in \u001b[0;36mtest_errors\u001b[0;34m(df, df_cot, alpha, test)\u001b[0m\n\u001b[1;32m      6\u001b[0m \u001b[38;5;66;03m# Use Wilcoxon test.\u001b[39;00m\n\u001b[1;32m      7\u001b[0m \u001b[38;5;66;03m# https://docs.scipy.org/doc/scipy/reference/generated/scipy.stats.wilcoxon.html\u001b[39;00m\n\u001b[1;32m      8\u001b[0m \u001b[38;5;28;01mif\u001b[39;00m test \u001b[38;5;241m==\u001b[39m \u001b[38;5;124m\"\u001b[39m\u001b[38;5;124mwilcoxon\u001b[39m\u001b[38;5;124m\"\u001b[39m:\n\u001b[0;32m----> 9\u001b[0m     p \u001b[38;5;241m=\u001b[39m \u001b[43mstats\u001b[49m\u001b[38;5;241;43m.\u001b[39;49m\u001b[43mwilcoxon\u001b[49m\u001b[43m(\u001b[49m\u001b[43merrors\u001b[49m\u001b[43m,\u001b[49m\u001b[43m \u001b[49m\u001b[43merrors_cot\u001b[49m\u001b[43m)\u001b[49m\u001b[38;5;241m.\u001b[39mpvalue\n\u001b[1;32m     10\u001b[0m     \u001b[38;5;28;01mif\u001b[39;00m p \u001b[38;5;241m<\u001b[39m\u001b[38;5;241m=\u001b[39m alpha:\n\u001b[1;32m     11\u001b[0m         \u001b[38;5;28mprint\u001b[39m(q, \u001b[38;5;124m\"\u001b[39m\u001b[38;5;124m: Errors from CoT are significantly different.\u001b[39m\u001b[38;5;124m\"\u001b[39m)\n",
      "File \u001b[0;32m~/anaconda3/envs/icp/lib/python3.10/site-packages/scipy/_lib/_util.py:713\u001b[0m, in \u001b[0;36m_rename_parameter.<locals>.decorator.<locals>.wrapper\u001b[0;34m(*args, **kwargs)\u001b[0m\n\u001b[1;32m    711\u001b[0m         \u001b[38;5;28;01mraise\u001b[39;00m \u001b[38;5;167;01mTypeError\u001b[39;00m(message)\n\u001b[1;32m    712\u001b[0m     kwargs[new_name] \u001b[38;5;241m=\u001b[39m kwargs\u001b[38;5;241m.\u001b[39mpop(old_name)\n\u001b[0;32m--> 713\u001b[0m \u001b[38;5;28;01mreturn\u001b[39;00m \u001b[43mfun\u001b[49m\u001b[43m(\u001b[49m\u001b[38;5;241;43m*\u001b[39;49m\u001b[43margs\u001b[49m\u001b[43m,\u001b[49m\u001b[43m \u001b[49m\u001b[38;5;241;43m*\u001b[39;49m\u001b[38;5;241;43m*\u001b[39;49m\u001b[43mkwargs\u001b[49m\u001b[43m)\u001b[49m\n",
      "File \u001b[0;32m~/anaconda3/envs/icp/lib/python3.10/site-packages/scipy/stats/_axis_nan_policy.py:523\u001b[0m, in \u001b[0;36m_axis_nan_policy_factory.<locals>.axis_nan_policy_decorator.<locals>.axis_nan_policy_wrapper\u001b[0;34m(***failed resolving arguments***)\u001b[0m\n\u001b[1;32m    521\u001b[0m \u001b[38;5;28;01mif\u001b[39;00m sentinel:\n\u001b[1;32m    522\u001b[0m     samples \u001b[38;5;241m=\u001b[39m _remove_sentinel(samples, paired, sentinel)\n\u001b[0;32m--> 523\u001b[0m res \u001b[38;5;241m=\u001b[39m \u001b[43mhypotest_fun_out\u001b[49m\u001b[43m(\u001b[49m\u001b[38;5;241;43m*\u001b[39;49m\u001b[43msamples\u001b[49m\u001b[43m,\u001b[49m\u001b[43m \u001b[49m\u001b[38;5;241;43m*\u001b[39;49m\u001b[38;5;241;43m*\u001b[39;49m\u001b[43mkwds\u001b[49m\u001b[43m)\u001b[49m\n\u001b[1;32m    524\u001b[0m res \u001b[38;5;241m=\u001b[39m result_to_tuple(res)\n\u001b[1;32m    525\u001b[0m res \u001b[38;5;241m=\u001b[39m _add_reduced_axes(res, reduced_axes, keepdims)\n",
      "File \u001b[0;32m~/anaconda3/envs/icp/lib/python3.10/site-packages/scipy/stats/_morestats.py:4094\u001b[0m, in \u001b[0;36mwilcoxon\u001b[0;34m(x, y, zero_method, correction, alternative, method)\u001b[0m\n\u001b[1;32m   4092\u001b[0m \u001b[38;5;28;01mif\u001b[39;00m zero_method \u001b[38;5;129;01min\u001b[39;00m [\u001b[38;5;124m\"\u001b[39m\u001b[38;5;124mwilcox\u001b[39m\u001b[38;5;124m\"\u001b[39m, \u001b[38;5;124m\"\u001b[39m\u001b[38;5;124mpratt\u001b[39m\u001b[38;5;124m\"\u001b[39m]:\n\u001b[1;32m   4093\u001b[0m     \u001b[38;5;28;01mif\u001b[39;00m n_zero \u001b[38;5;241m==\u001b[39m \u001b[38;5;28mlen\u001b[39m(d):\n\u001b[0;32m-> 4094\u001b[0m         \u001b[38;5;28;01mraise\u001b[39;00m \u001b[38;5;167;01mValueError\u001b[39;00m(\u001b[38;5;124m\"\u001b[39m\u001b[38;5;124mzero_method \u001b[39m\u001b[38;5;124m'\u001b[39m\u001b[38;5;124mwilcox\u001b[39m\u001b[38;5;124m'\u001b[39m\u001b[38;5;124m and \u001b[39m\u001b[38;5;124m'\u001b[39m\u001b[38;5;124mpratt\u001b[39m\u001b[38;5;124m'\u001b[39m\u001b[38;5;124m do not \u001b[39m\u001b[38;5;124m\"\u001b[39m\n\u001b[1;32m   4095\u001b[0m                          \u001b[38;5;124m\"\u001b[39m\u001b[38;5;124mwork if x - y is zero for all elements.\u001b[39m\u001b[38;5;124m\"\u001b[39m)\n\u001b[1;32m   4096\u001b[0m \u001b[38;5;28;01mif\u001b[39;00m zero_method \u001b[38;5;241m==\u001b[39m \u001b[38;5;124m\"\u001b[39m\u001b[38;5;124mwilcox\u001b[39m\u001b[38;5;124m\"\u001b[39m:\n\u001b[1;32m   4097\u001b[0m     \u001b[38;5;66;03m# Keep all non-zero differences\u001b[39;00m\n\u001b[1;32m   4098\u001b[0m     d \u001b[38;5;241m=\u001b[39m compress(np\u001b[38;5;241m.\u001b[39mnot_equal(d, \u001b[38;5;241m0\u001b[39m), d)\n",
      "\u001b[0;31mValueError\u001b[0m: zero_method 'wilcox' and 'pratt' do not work if x - y is zero for all elements."
     ]
    }
   ],
   "source": [
    "test_errors(df_o1, df_o1_cot, test = \"wilcoxon\")"
   ]
  },
  {
   "cell_type": "code",
   "execution_count": 55,
   "id": "09d6aba2-9a96-4206-8cf3-e70ccbb21369",
   "metadata": {},
   "outputs": [
    {
     "name": "stdout",
     "output_type": "stream",
     "text": [
      "CD : Errors from CoT are significantly different.\n",
      "CY : Errors from CoT are significantly different.\n",
      "DY : Errors from CoT are significantly different.\n",
      "XC : Errors from CoT are significantly different.\n",
      "XD : Errors from CoT are significantly different.\n",
      "XY : Paired samples come from the same distribution.\n"
     ]
    },
    {
     "name": "stderr",
     "output_type": "stream",
     "text": [
      "/var/folders/mr/d0d9lh3x2bb7vq5smg_6bmzr0000gn/T/ipykernel_71662/984802418.py:22: UserWarning: Errors for CD may not be normally distributed: 3.3237619857992896e-08 <= 0.05\n",
      "  warnings.warn(\"Errors for {} may not be normally distributed: {} <= {}\".format(q,p,alpha))\n",
      "/var/folders/mr/d0d9lh3x2bb7vq5smg_6bmzr0000gn/T/ipykernel_71662/984802418.py:22: UserWarning: Errors for CY may not be normally distributed: 1.762225485042086e-08 <= 0.05\n",
      "  warnings.warn(\"Errors for {} may not be normally distributed: {} <= {}\".format(q,p,alpha))\n",
      "/var/folders/mr/d0d9lh3x2bb7vq5smg_6bmzr0000gn/T/ipykernel_71662/984802418.py:24: UserWarning: Errors for CY with CoT may not be normally distributed: 6.332211625566561e-44 <= 0.05\n",
      "  warnings.warn(\"Errors for {} with CoT may not be normally distributed: {} <= {}\".format(q,p_cot,alpha))\n",
      "/var/folders/mr/d0d9lh3x2bb7vq5smg_6bmzr0000gn/T/ipykernel_71662/984802418.py:22: UserWarning: Errors for DY may not be normally distributed: 2.9642808029089893e-25 <= 0.05\n",
      "  warnings.warn(\"Errors for {} may not be normally distributed: {} <= {}\".format(q,p,alpha))\n",
      "/var/folders/mr/d0d9lh3x2bb7vq5smg_6bmzr0000gn/T/ipykernel_71662/984802418.py:22: UserWarning: Errors for XC may not be normally distributed: 3.7239126987498916e-30 <= 0.05\n",
      "  warnings.warn(\"Errors for {} may not be normally distributed: {} <= {}\".format(q,p,alpha))\n",
      "/var/folders/mr/d0d9lh3x2bb7vq5smg_6bmzr0000gn/T/ipykernel_71662/984802418.py:22: UserWarning: Errors for XD may not be normally distributed: 0.0 <= 0.05\n",
      "  warnings.warn(\"Errors for {} may not be normally distributed: {} <= {}\".format(q,p,alpha))\n"
     ]
    }
   ],
   "source": [
    "test_errors(df_o1, df_o1_cot, test = \"t-test\")"
   ]
  },
  {
   "cell_type": "code",
   "execution_count": null,
   "id": "fe5ac520-8d94-4a72-b8e8-81ef9929f481",
   "metadata": {},
   "outputs": [],
   "source": []
  },
  {
   "cell_type": "code",
   "execution_count": null,
   "id": "e603fa22-6486-4c58-bc33-86e391cb72fe",
   "metadata": {},
   "outputs": [],
   "source": []
  },
  {
   "cell_type": "code",
   "execution_count": null,
   "id": "e976501b-320b-4c6b-aa54-dcf78355e7fd",
   "metadata": {},
   "outputs": [],
   "source": []
  },
  {
   "cell_type": "code",
   "execution_count": null,
   "id": "2eb69fc0-33ef-4826-bf9b-ce419fa5c004",
   "metadata": {},
   "outputs": [],
   "source": []
  }
 ],
 "metadata": {
  "kernelspec": {
   "display_name": "ICP",
   "language": "python",
   "name": "icp"
  },
  "language_info": {
   "codemirror_mode": {
    "name": "ipython",
    "version": 3
   },
   "file_extension": ".py",
   "mimetype": "text/x-python",
   "name": "python",
   "nbconvert_exporter": "python",
   "pygments_lexer": "ipython3",
   "version": "3.10.13"
  }
 },
 "nbformat": 4,
 "nbformat_minor": 5
}
