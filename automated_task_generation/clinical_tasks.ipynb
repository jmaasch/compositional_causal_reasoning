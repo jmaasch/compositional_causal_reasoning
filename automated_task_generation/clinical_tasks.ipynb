{
 "cells": [
  {
   "cell_type": "markdown",
   "id": "351d34b5-e039-4897-b10b-86cb67866223",
   "metadata": {},
   "source": [
    "# Clinical task generation"
   ]
  },
  {
   "cell_type": "code",
   "execution_count": 1,
   "id": "3694e99b-d03a-4078-bb96-872a0d54c1ea",
   "metadata": {},
   "outputs": [],
   "source": [
    "# General importations.\n",
    "import pandas as pd\n",
    "import numpy as np\n",
    "import matplotlib.pyplot as plt\n",
    "import math\n",
    "import string\n",
    "from random import shuffle,seed,choices\n",
    "from faker import Faker\n",
    "from faker.providers.person.en import Provider\n",
    "import networkx as nx\n",
    "import itertools\n",
    "\n",
    "from utils import Utils\n",
    "from clinical_notes import TaskGenerator"
   ]
  },
  {
   "cell_type": "code",
   "execution_count": 14,
   "id": "2b27cf8a-d87f-4964-9039-6b5174ede16e",
   "metadata": {},
   "outputs": [
    {
     "data": {
      "image/png": "[encoded data removed]",
      "text/plain": [
       "<Figure size 350x350 with 1 Axes>"
      ]
     },
     "metadata": {},
     "output_type": "display_data"
    },
    {
     "name": "stdout",
     "output_type": "stream",
     "text": [
      "\n",
      "Context: Chronic disease 6I3TT5 sometimes requires surgical intervention, depending on genetics, patient history, vital signs, and lab results. The patient will experience significant pain (rated greater than or equal to 9/10) if they carry allele N3H6, a genetic marker for severe 6I3TT5. If the patient self-reports significant pain or the patient has previously received surgery for 12RN, then lab 0VIP will be elevated (greater than 2.54 mg/dL). If 0VIP is elevated or the patient has previously received surgery for GAYW, then vital NQZH will be elevated (greater than 1.07 mg/dL). If NQZH is elevated and the patient carries allele O8SK, then the surgeon will recommend surgery. Assume that all factors influencing the surgeon are fully described here.\n",
      "\n",
      "Now, we will review the history and physical notes for patient Erin Fowler. History of Present Illness: Erin Fowler is a 69-year-old female with 6I3TT5 who presented to the emergency department with acute onset pain that began 5 hours prior to arrival. Pain was rated 7/10. The patient reports the pain has been persistent since onset. The patient took aspirin (500 mg) at home with minimal relief.\n",
      "Genetic Screening: Patient carries alleles O8SK, T52S, X1RH.\n",
      "Family History: 1A1Z, GQ5U.\n",
      "Medications: 1W5 75 mg/day, 5L1 75 mg/day.\n",
      "Past Surgical History: Prior surgeries for GAYW, W1BP, QAVX.\n",
      "\n",
      "- Global cause-effect pairs: ('pain', 'surgery')\n",
      "- Local cause-effect pairs: [('pain', '0VIP'), ('pain', 'NQZH'), ('0VIP', 'NQZH'), ('0VIP', 'surgery'), ('NQZH', 'surgery')]\n",
      "- Compositions: [[('pain', '0VIP'), ('0VIP', 'NQZH'), ('NQZH', 'surgery')], [('pain', '0VIP'), ('0VIP', 'surgery')], [('pain', 'NQZH'), ('NQZH', 'surgery')]]\n"
     ]
    }
   ],
   "source": [
    "tg = TaskGenerator(n_per_bcc = [2,2,2], \n",
    "                   bcc_types = [\"cycle\", \"wheel\", \"cycle\"],)\n",
    "context = tg.get_context(n_extra_vars = 2)\n",
    "true = tg.get_truth(intervene_node = None, intervene_value = 0)\n",
    "print()\n",
    "print(\"Context:\", context)\n",
    "print()\n",
    "#print(\"- True endogenous variable values:\", true)\n",
    "#print()\n",
    "print(\"- Global cause-effect pairs:\", tg.get_global())\n",
    "print(\"- Local cause-effect pairs:\", tg.get_local())\n",
    "print(\"- Compositions:\", tg.get_compositions())"
   ]
  },
  {
   "cell_type": "code",
   "execution_count": 15,
   "id": "2b53900c-a276-4a54-b03d-395e96acbe7b",
   "metadata": {},
   "outputs": [
    {
     "name": "stdout",
     "output_type": "stream",
     "text": [
      "\n",
      "- Factual queries:\n"
     ]
    },
    {
     "data": {
      "text/plain": [
       "{'surgery': 'Will the surgeon recommend surgery? Begin your response with True or False and be as concise as possible.',\n",
       " '0VIP': 'Will lab 0VIP be elevated? Begin your response with True or False and be as concise as possible.',\n",
       " 'NQZH': 'Will vital NQZH be elevated? Begin your response with True or False and be as concise as possible.'}"
      ]
     },
     "metadata": {},
     "output_type": "display_data"
    }
   ],
   "source": [
    "print()\n",
    "print(\"- Factual queries:\")\n",
    "display(tg.get_factual_queries())"
   ]
  },
  {
   "cell_type": "code",
   "execution_count": 16,
   "id": "ef2003c8-77ce-42ce-9e67-82bb0520ab29",
   "metadata": {},
   "outputs": [
    {
     "name": "stdout",
     "output_type": "stream",
     "text": [
      "- Counterfactual queries (cause = True):\n",
      "\n",
      "-----------------------\n",
      "\n",
      "-- ('pain', 'surgery') --\n",
      "Prompt: Now suppose that the patient will be in significant pain regardless of all other circumstances. With this new assumption, will the surgeon recommend surgery? Begin your response with True or False and be as concise as possible.\n",
      "True endogenous: {'pain': 1, '0VIP': 1, 'NQZH': 1, 'surgery': 0}\n",
      "True exogenous: {'N3H6': 1, '12RN': 1, 'GAYW': 0, 'O8SK': 0}\n",
      "True response: 0\n",
      "\n",
      "-----------------------\n",
      "\n",
      "-- ('pain', '0VIP') --\n",
      "Prompt: Now suppose that the patient will be in significant pain regardless of all other circumstances. With this new assumption, will lab 0VIP be elevated? Begin your response with True or False and be as concise as possible.\n",
      "True endogenous: {'pain': 1, '0VIP': 1, 'NQZH': 1, 'surgery': 0}\n",
      "True exogenous: {'N3H6': 1, '12RN': 1, 'GAYW': 0, 'O8SK': 0}\n",
      "True response: 1\n",
      "\n",
      "-----------------------\n",
      "\n",
      "-- ('pain', 'NQZH') --\n",
      "Prompt: Now suppose that the patient will be in significant pain regardless of all other circumstances. With this new assumption, will vital NQZH be elevated? Begin your response with True or False and be as concise as possible.\n",
      "True endogenous: {'pain': 1, '0VIP': 1, 'NQZH': 1, 'surgery': 0}\n",
      "True exogenous: {'N3H6': 1, '12RN': 1, 'GAYW': 0, 'O8SK': 0}\n",
      "True response: 1\n",
      "\n",
      "-----------------------\n",
      "\n",
      "-- ('0VIP', 'NQZH') --\n",
      "Prompt: Now suppose that lab 0VIP will be elevated regardless of all other circumstances. With this new assumption, will vital NQZH be elevated? Begin your response with True or False and be as concise as possible.\n",
      "True endogenous: {'pain': 1, '0VIP': 1, 'NQZH': 1, 'surgery': 0}\n",
      "True exogenous: {'N3H6': 1, '12RN': 1, 'GAYW': 0, 'O8SK': 0}\n",
      "True response: 1\n",
      "\n",
      "-----------------------\n",
      "\n",
      "-- ('0VIP', 'surgery') --\n",
      "Prompt: Now suppose that lab 0VIP will be elevated regardless of all other circumstances. With this new assumption, will the surgeon recommend surgery? Begin your response with True or False and be as concise as possible.\n",
      "True endogenous: {'pain': 1, '0VIP': 1, 'NQZH': 1, 'surgery': 0}\n",
      "True exogenous: {'N3H6': 1, '12RN': 1, 'GAYW': 0, 'O8SK': 0}\n",
      "True response: 0\n",
      "\n",
      "-----------------------\n",
      "\n",
      "-- ('NQZH', 'surgery') --\n",
      "Prompt: Now suppose that vital NQZH will be elevated regardless of all other circumstances. With this new assumption, will the surgeon recommend surgery? Begin your response with True or False and be as concise as possible.\n",
      "True endogenous: {'pain': 1, '0VIP': 1, 'NQZH': 1, 'surgery': 0}\n",
      "True exogenous: {'N3H6': 1, '12RN': 1, 'GAYW': 0, 'O8SK': 0}\n",
      "True response: 0\n",
      "\n",
      "-----------------------\n"
     ]
    }
   ],
   "source": [
    "cf_1, cf_0 = tg.get_counterfactual_queries()\n",
    "print(\"- Counterfactual queries (cause = True):\")\n",
    "for key,val in cf_1.items():\n",
    "    print(\"\\n-----------------------\")\n",
    "    print(\"\\n-- {} --\".format(key))\n",
    "    print(\"Prompt:\", val.get(\"Prompt\"))\n",
    "    print(\"True endogenous:\", val.get(\"True endogenous\"))\n",
    "    print(\"True exogenous:\", val.get(\"True exogenous\"))\n",
    "    print(\"True response:\", val.get(\"True response\"))\n",
    "print(\"\\n-----------------------\")"
   ]
  },
  {
   "cell_type": "code",
   "execution_count": 11,
   "id": "9ad0aabe-ee40-4719-823a-8ee2ef1cb539",
   "metadata": {},
   "outputs": [
    {
     "name": "stdout",
     "output_type": "stream",
     "text": [
      "- Counterfactual queries (cause = False):\n",
      "\n",
      "-----------------------\n",
      "\n",
      "-- ('pain', 'surgery') --\n",
      "Prompt: Now suppose that the patient will not be in pain regardless of all other circumstances. With this new assumption, will the surgeon recommend surgery? Begin your response with True or False and be as concise as possible.\n",
      "True endogenous: {'pain': 0, 'BWW3': 1, 'JJ34': 1, 'surgery': 0}\n",
      "True exogenous: {'C1KV': 1, 'WBUU': 1, '7SVB': 0, '0LEF': 0}\n",
      "True response: 0\n",
      "\n",
      "-----------------------\n",
      "\n",
      "-- ('pain', 'BWW3') --\n",
      "Prompt: Now suppose that the patient will not be in pain regardless of all other circumstances. With this new assumption, will vital BWW3 be low? Begin your response with True or False and be as concise as possible.\n",
      "True endogenous: {'pain': 0, 'BWW3': 1, 'JJ34': 1, 'surgery': 0}\n",
      "True exogenous: {'C1KV': 1, 'WBUU': 1, '7SVB': 0, '0LEF': 0}\n",
      "True response: 1\n",
      "\n",
      "-----------------------\n",
      "\n",
      "-- ('pain', 'JJ34') --\n",
      "Prompt: Now suppose that the patient will not be in pain regardless of all other circumstances. With this new assumption, will lab JJ34 be low? Begin your response with True or False and be as concise as possible.\n",
      "True endogenous: {'pain': 0, 'BWW3': 1, 'JJ34': 1, 'surgery': 0}\n",
      "True exogenous: {'C1KV': 1, 'WBUU': 1, '7SVB': 0, '0LEF': 0}\n",
      "True response: 1\n",
      "\n",
      "-----------------------\n",
      "\n",
      "-- ('BWW3', 'JJ34') --\n",
      "Prompt: Now suppose that vital BWW3 will not be low regardless of all other circumstances. With this new assumption, will lab JJ34 be low? Begin your response with True or False and be as concise as possible.\n",
      "True endogenous: {'pain': 1, 'BWW3': 0, 'JJ34': 0, 'surgery': 0}\n",
      "True exogenous: {'C1KV': 1, 'WBUU': 1, '7SVB': 0, '0LEF': 0}\n",
      "True response: 0\n",
      "\n",
      "-----------------------\n",
      "\n",
      "-- ('BWW3', 'surgery') --\n",
      "Prompt: Now suppose that vital BWW3 will not be low regardless of all other circumstances. With this new assumption, will the surgeon recommend surgery? Begin your response with True or False and be as concise as possible.\n",
      "True endogenous: {'pain': 1, 'BWW3': 0, 'JJ34': 0, 'surgery': 0}\n",
      "True exogenous: {'C1KV': 1, 'WBUU': 1, '7SVB': 0, '0LEF': 0}\n",
      "True response: 0\n",
      "\n",
      "-----------------------\n",
      "\n",
      "-- ('JJ34', 'surgery') --\n",
      "Prompt: Now suppose that lab JJ34 will not be low regardless of all other circumstances. With this new assumption, will the surgeon recommend surgery? Begin your response with True or False and be as concise as possible.\n",
      "True endogenous: {'pain': 1, 'BWW3': 1, 'JJ34': 0, 'surgery': 0}\n",
      "True exogenous: {'C1KV': 1, 'WBUU': 1, '7SVB': 0, '0LEF': 0}\n",
      "True response: 0\n",
      "\n",
      "-----------------------\n"
     ]
    }
   ],
   "source": [
    "print(\"- Counterfactual queries (cause = False):\")\n",
    "for key,val in cf_0.items():\n",
    "    print(\"\\n-----------------------\")\n",
    "    print(\"\\n-- {} --\".format(key))\n",
    "    print(\"Prompt:\", val.get(\"Prompt\"))\n",
    "    print(\"True endogenous:\", val.get(\"True endogenous\"))\n",
    "    print(\"True exogenous:\", val.get(\"True exogenous\"))\n",
    "    print(\"True response:\", val.get(\"True response\"))\n",
    "print(\"\\n-----------------------\")"
   ]
  },
  {
   "cell_type": "code",
   "execution_count": 6,
   "id": "23a15ed0-a75e-4999-871e-681a4539b2fc",
   "metadata": {},
   "outputs": [
    {
     "data": {
      "text/html": [
       "<div>\n",
       "<style scoped>\n",
       "    .dataframe tbody tr th:only-of-type {\n",
       "        vertical-align: middle;\n",
       "    }\n",
       "\n",
       "    .dataframe tbody tr th {\n",
       "        vertical-align: top;\n",
       "    }\n",
       "\n",
       "    .dataframe thead th {\n",
       "        text-align: right;\n",
       "    }\n",
       "</style>\n",
       "<table border=\"1\" class=\"dataframe\">\n",
       "  <thead>\n",
       "    <tr style=\"text-align: right;\">\n",
       "      <th></th>\n",
       "      <th>pain</th>\n",
       "      <th>BWW3</th>\n",
       "      <th>JJ34</th>\n",
       "      <th>surgery</th>\n",
       "    </tr>\n",
       "  </thead>\n",
       "  <tbody>\n",
       "    <tr>\n",
       "      <th>0</th>\n",
       "      <td>1</td>\n",
       "      <td>1</td>\n",
       "      <td>1</td>\n",
       "      <td>0</td>\n",
       "    </tr>\n",
       "    <tr>\n",
       "      <th>1</th>\n",
       "      <td>1</td>\n",
       "      <td>1</td>\n",
       "      <td>1</td>\n",
       "      <td>0</td>\n",
       "    </tr>\n",
       "    <tr>\n",
       "      <th>2</th>\n",
       "      <td>0</td>\n",
       "      <td>0</td>\n",
       "      <td>0</td>\n",
       "      <td>0</td>\n",
       "    </tr>\n",
       "  </tbody>\n",
       "</table>\n",
       "</div>"
      ],
      "text/plain": [
       "   pain  BWW3  JJ34  surgery\n",
       "0     1     1     1        0\n",
       "1     1     1     1        0\n",
       "2     0     0     0        0"
      ]
     },
     "metadata": {},
     "output_type": "display_data"
    },
    {
     "data": {
      "text/html": [
       "<div>\n",
       "<style scoped>\n",
       "    .dataframe tbody tr th:only-of-type {\n",
       "        vertical-align: middle;\n",
       "    }\n",
       "\n",
       "    .dataframe tbody tr th {\n",
       "        vertical-align: top;\n",
       "    }\n",
       "\n",
       "    .dataframe thead th {\n",
       "        text-align: right;\n",
       "    }\n",
       "</style>\n",
       "<table border=\"1\" class=\"dataframe\">\n",
       "  <thead>\n",
       "    <tr style=\"text-align: right;\">\n",
       "      <th></th>\n",
       "      <th>C1KV</th>\n",
       "      <th>WBUU</th>\n",
       "      <th>7SVB</th>\n",
       "      <th>0LEF</th>\n",
       "    </tr>\n",
       "  </thead>\n",
       "  <tbody>\n",
       "    <tr>\n",
       "      <th>0</th>\n",
       "      <td>1</td>\n",
       "      <td>0</td>\n",
       "      <td>1</td>\n",
       "      <td>0</td>\n",
       "    </tr>\n",
       "    <tr>\n",
       "      <th>1</th>\n",
       "      <td>1</td>\n",
       "      <td>0</td>\n",
       "      <td>1</td>\n",
       "      <td>0</td>\n",
       "    </tr>\n",
       "    <tr>\n",
       "      <th>2</th>\n",
       "      <td>0</td>\n",
       "      <td>0</td>\n",
       "      <td>0</td>\n",
       "      <td>1</td>\n",
       "    </tr>\n",
       "  </tbody>\n",
       "</table>\n",
       "</div>"
      ],
      "text/plain": [
       "   C1KV  WBUU  7SVB  0LEF\n",
       "0     1     0     1     0\n",
       "1     1     0     1     0\n",
       "2     0     0     0     1"
      ]
     },
     "metadata": {},
     "output_type": "display_data"
    }
   ],
   "source": [
    "df_obs, df_noise = tg.sample_scm(n = 3,\n",
    "                                 intervene_node = None,\n",
    "                                 intervene_value = 0)\n",
    "display(df_obs.head())\n",
    "display(df_noise.head())"
   ]
  },
  {
   "cell_type": "code",
   "execution_count": 7,
   "id": "89e42458-9c50-47d8-9d94-1c2fbc1a4303",
   "metadata": {},
   "outputs": [
    {
     "data": {
      "text/plain": [
       "['pain', 'BWW3', 'JJ34', 'surgery']"
      ]
     },
     "execution_count": 7,
     "metadata": {},
     "output_type": "execute_result"
    }
   ],
   "source": [
    "tg.nodes"
   ]
  },
  {
   "cell_type": "code",
   "execution_count": 8,
   "id": "f761d748-0ec8-46de-885e-475ad5798d38",
   "metadata": {},
   "outputs": [
    {
     "data": {
      "text/plain": [
       "['C1KV', 'WBUU', '7SVB', '0LEF']"
      ]
     },
     "execution_count": 8,
     "metadata": {},
     "output_type": "execute_result"
    }
   ],
   "source": [
    "tg.exog_names"
   ]
  },
  {
   "cell_type": "code",
   "execution_count": 9,
   "id": "2f7a9eb0-6dc1-481d-92c4-92cc78445b91",
   "metadata": {},
   "outputs": [
    {
     "data": {
      "text/plain": [
       "[0.5, 0.5, 0.5, 0.5]"
      ]
     },
     "execution_count": 9,
     "metadata": {},
     "output_type": "execute_result"
    }
   ],
   "source": [
    "tg.p"
   ]
  },
  {
   "cell_type": "code",
   "execution_count": 10,
   "id": "48a6edeb-37cf-4791-9b00-8aca637336bb",
   "metadata": {},
   "outputs": [
    {
     "name": "stdout",
     "output_type": "stream",
     "text": [
      "('pain', 'surgery')\n",
      "('pain', 'BWW3')\n",
      "('pain', 'JJ34')\n",
      "('BWW3', 'JJ34')\n",
      "('BWW3', 'surgery')\n",
      "('JJ34', 'surgery')\n"
     ]
    }
   ],
   "source": [
    "for pair in [tg.global_quantity]+tg.local:\n",
    "    print(pair)"
   ]
  },
  {
   "cell_type": "code",
   "execution_count": null,
   "id": "de53cf7e-85b2-4580-9728-1a62e0bc678a",
   "metadata": {},
   "outputs": [],
   "source": []
  }
 ],
 "metadata": {
  "kernelspec": {
   "display_name": "ICP",
   "language": "python",
   "name": "icp"
  },
  "language_info": {
   "codemirror_mode": {
    "name": "ipython",
    "version": 3
   },
   "file_extension": ".py",
   "mimetype": "text/x-python",
   "name": "python",
   "nbconvert_exporter": "python",
   "pygments_lexer": "ipython3",
   "version": "3.10.13"
  }
 },
 "nbformat": 4,
 "nbformat_minor": 5
}
