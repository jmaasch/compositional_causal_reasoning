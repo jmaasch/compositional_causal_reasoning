{
 "cells": [
  {
   "cell_type": "markdown",
   "id": "351d34b5-e039-4897-b10b-86cb67866223",
   "metadata": {},
   "source": [
    "# Clinical task generation"
   ]
  },
  {
   "cell_type": "code",
   "execution_count": 1,
   "id": "3694e99b-d03a-4078-bb96-872a0d54c1ea",
   "metadata": {},
   "outputs": [],
   "source": [
    "# General importations.\n",
    "import pandas as pd\n",
    "import numpy as np\n",
    "import matplotlib.pyplot as plt\n",
    "import math\n",
    "import string\n",
    "from random import shuffle,seed,choices\n",
    "from faker import Faker\n",
    "from faker.providers.person.en import Provider\n",
    "import networkx as nx\n",
    "import itertools\n",
    "\n",
    "from utils import Utils\n",
    "from clinical_notes import TaskGenerator"
   ]
  },
  {
   "cell_type": "code",
   "execution_count": 2,
   "id": "2b27cf8a-d87f-4964-9039-6b5174ede16e",
   "metadata": {},
   "outputs": [
    {
     "data": {
      "image/png": "[encoded data removed]",
      "text/plain": [
       "<Figure size 350x350 with 1 Axes>"
      ]
     },
     "metadata": {},
     "output_type": "display_data"
    },
    {
     "name": "stdout",
     "output_type": "stream",
     "text": [
      "\n",
      "Context: Chronic disease 9A1G4R sometimes requires surgical intervention, depending on genetics, patient history, vital signs, and lab results. The patient will experience significant pain (rated greater than or equal to 7/10) if they carry allele HU5O, a genetic marker for severe 9A1G4R. If the patient self-reports significant pain or the patient has previously received surgery for 0OU4, then lab 6XHA will be elevated (greater than 3.26 mg/dL). If 6XHA is elevated or the patient carries allele KEOW, then lab F4NB will be low (less than 1.2 mg/dL). If F4NB is low and the patient has previously received surgery for WQFS, then the surgeon will recommend surgery. Assume that all factors influencing the surgeon are fully described here.\n",
      "\n",
      "Patient history: Now, we will review the history and physical notes for patient Pamela White. History of Present Illness: Pamela White is a 68-year-old female with 9A1G4R who presented to the emergency department with acute onset pain that began 3 hours prior to arrival. Pain was rated 2/10. The patient reports the pain has been persistent since onset. The patient took aspirin (250 mg) at home with minimal relief.\n",
      "Genetic Screening: Patient carries alleles KEOW, G52Y, JTIN.\n",
      "Family History: H6XM, WC54.\n",
      "Medications: HAX 10 mg/day, 28T 75 mg/day.\n",
      "Past Surgical History: Prior surgeries for 0OU4, 0OU4, IUOI, CA4D.\n",
      "\n",
      "- Global cause-effect pairs: ('pain', 'surgery')\n",
      "- Local cause-effect pairs: [('pain', '6XHA'), ('pain', 'F4NB'), ('6XHA', 'F4NB'), ('6XHA', 'surgery'), ('F4NB', 'surgery')]\n",
      "- Compositions: [[('pain', '6XHA'), ('6XHA', 'F4NB'), ('F4NB', 'surgery')], [('pain', '6XHA'), ('6XHA', 'surgery')], [('pain', 'F4NB'), ('F4NB', 'surgery')]]\n"
     ]
    }
   ],
   "source": [
    "tg = TaskGenerator(n_per_bcc = [2,2,2], \n",
    "                   bcc_types = [\"cycle\", \"wheel\", \"cycle\"],)\n",
    "context = tg.get_causal_context()\n",
    "patient_history = tg.get_patient_history(n_extra_vars = 2)\n",
    "true = tg.get_truth(intervene_node = None, intervene_value = 0)\n",
    "print()\n",
    "print(\"Context:\", context)\n",
    "print()\n",
    "print(\"Patient history:\", patient_history)\n",
    "print()\n",
    "#print(\"- True endogenous variable values:\", true)\n",
    "#print()\n",
    "print(\"- Global cause-effect pairs:\", tg.get_global())\n",
    "print(\"- Local cause-effect pairs:\", tg.get_local())\n",
    "print(\"- Compositions:\", tg.get_compositions())"
   ]
  },
  {
   "cell_type": "code",
   "execution_count": 3,
   "id": "2b53900c-a276-4a54-b03d-395e96acbe7b",
   "metadata": {},
   "outputs": [
    {
     "name": "stdout",
     "output_type": "stream",
     "text": [
      "\n",
      "- Factual queries:\n"
     ]
    },
    {
     "data": {
      "text/plain": [
       "{'surgery': {'Prompt': 'Will the surgeon recommend surgery? Begin your response with True or False and be as concise as possible.',\n",
       "  'True endogenous': {'pain': 0, '6XHA': 1, 'F4NB': 1, 'surgery': 0},\n",
       "  'True exogenous': {'HU5O': 0, '0OU4': 1, 'KEOW': 1, 'WQFS': 0},\n",
       "  'True response': 0},\n",
       " '6XHA': {'Prompt': 'Will lab 6XHA be elevated? Begin your response with True or False and be as concise as possible.',\n",
       "  'True endogenous': {'pain': 0, '6XHA': 1, 'F4NB': 1, 'surgery': 0},\n",
       "  'True exogenous': {'HU5O': 0, '0OU4': 1, 'KEOW': 1, 'WQFS': 0},\n",
       "  'True response': 1},\n",
       " 'F4NB': {'Prompt': 'Will lab F4NB be low? Begin your response with True or False and be as concise as possible.',\n",
       "  'True endogenous': {'pain': 0, '6XHA': 1, 'F4NB': 1, 'surgery': 0},\n",
       "  'True exogenous': {'HU5O': 0, '0OU4': 1, 'KEOW': 1, 'WQFS': 0},\n",
       "  'True response': 1}}"
      ]
     },
     "metadata": {},
     "output_type": "display_data"
    }
   ],
   "source": [
    "print()\n",
    "print(\"- Factual queries:\")\n",
    "display(tg.get_factual_queries())"
   ]
  },
  {
   "cell_type": "code",
   "execution_count": 4,
   "id": "ef2003c8-77ce-42ce-9e67-82bb0520ab29",
   "metadata": {},
   "outputs": [
    {
     "name": "stdout",
     "output_type": "stream",
     "text": [
      "- Counterfactual queries (cause = True):\n",
      "\n",
      "-----------------------\n",
      "\n",
      "-- ('pain', 'surgery') --\n",
      "Prompt: Now suppose that the patient will be in significant pain regardless of all other circumstances. With this new assumption, will the surgeon recommend surgery? Begin your response with True or False and be as concise as possible.\n",
      "True endogenous: {'pain': 1, '6XHA': 1, 'F4NB': 1, 'surgery': 0}\n",
      "True exogenous: {'HU5O': 0, '0OU4': 1, 'KEOW': 1, 'WQFS': 0}\n",
      "True response: 0\n",
      "\n",
      "-----------------------\n",
      "\n",
      "-- ('pain', '6XHA') --\n",
      "Prompt: Now suppose that the patient will be in significant pain regardless of all other circumstances. With this new assumption, will lab 6XHA be elevated? Begin your response with True or False and be as concise as possible.\n",
      "True endogenous: {'pain': 1, '6XHA': 1, 'F4NB': 1, 'surgery': 0}\n",
      "True exogenous: {'HU5O': 0, '0OU4': 1, 'KEOW': 1, 'WQFS': 0}\n",
      "True response: 1\n",
      "\n",
      "-----------------------\n",
      "\n",
      "-- ('pain', 'F4NB') --\n",
      "Prompt: Now suppose that the patient will be in significant pain regardless of all other circumstances. With this new assumption, will lab F4NB be low? Begin your response with True or False and be as concise as possible.\n",
      "True endogenous: {'pain': 1, '6XHA': 1, 'F4NB': 1, 'surgery': 0}\n",
      "True exogenous: {'HU5O': 0, '0OU4': 1, 'KEOW': 1, 'WQFS': 0}\n",
      "True response: 1\n",
      "\n",
      "-----------------------\n",
      "\n",
      "-- ('6XHA', 'F4NB') --\n",
      "Prompt: Now suppose that lab 6XHA will be elevated regardless of all other circumstances. With this new assumption, will lab F4NB be low? Begin your response with True or False and be as concise as possible.\n",
      "True endogenous: {'pain': 0, '6XHA': 1, 'F4NB': 1, 'surgery': 0}\n",
      "True exogenous: {'HU5O': 0, '0OU4': 1, 'KEOW': 1, 'WQFS': 0}\n",
      "True response: 1\n",
      "\n",
      "-----------------------\n",
      "\n",
      "-- ('6XHA', 'surgery') --\n",
      "Prompt: Now suppose that lab 6XHA will be elevated regardless of all other circumstances. With this new assumption, will the surgeon recommend surgery? Begin your response with True or False and be as concise as possible.\n",
      "True endogenous: {'pain': 0, '6XHA': 1, 'F4NB': 1, 'surgery': 0}\n",
      "True exogenous: {'HU5O': 0, '0OU4': 1, 'KEOW': 1, 'WQFS': 0}\n",
      "True response: 0\n",
      "\n",
      "-----------------------\n",
      "\n",
      "-- ('F4NB', 'surgery') --\n",
      "Prompt: Now suppose that lab F4NB will be low regardless of all other circumstances. With this new assumption, will the surgeon recommend surgery? Begin your response with True or False and be as concise as possible.\n",
      "True endogenous: {'pain': 0, '6XHA': 1, 'F4NB': 1, 'surgery': 0}\n",
      "True exogenous: {'HU5O': 0, '0OU4': 1, 'KEOW': 1, 'WQFS': 0}\n",
      "True response: 0\n",
      "\n",
      "-----------------------\n"
     ]
    }
   ],
   "source": [
    "cf_1, cf_0 = tg.get_counterfactual_queries()\n",
    "print(\"- Counterfactual queries (cause = True):\")\n",
    "for key,val in cf_1.items():\n",
    "    print(\"\\n-----------------------\")\n",
    "    print(\"\\n-- {} --\".format(key))\n",
    "    print(\"Prompt:\", val.get(\"Prompt\"))\n",
    "    print(\"True endogenous:\", val.get(\"True endogenous\"))\n",
    "    print(\"True exogenous:\", val.get(\"True exogenous\"))\n",
    "    print(\"True response:\", val.get(\"True response\"))\n",
    "print(\"\\n-----------------------\")"
   ]
  },
  {
   "cell_type": "code",
   "execution_count": 5,
   "id": "9ad0aabe-ee40-4719-823a-8ee2ef1cb539",
   "metadata": {},
   "outputs": [
    {
     "name": "stdout",
     "output_type": "stream",
     "text": [
      "- Counterfactual queries (cause = False):\n",
      "\n",
      "-----------------------\n",
      "\n",
      "-- ('pain', 'surgery') --\n",
      "Prompt: Now suppose that the patient will not be in pain regardless of all other circumstances. With this new assumption, will the surgeon recommend surgery? Begin your response with True or False and be as concise as possible.\n",
      "True endogenous: {'pain': 0, '6XHA': 1, 'F4NB': 1, 'surgery': 0}\n",
      "True exogenous: {'HU5O': 0, '0OU4': 1, 'KEOW': 1, 'WQFS': 0}\n",
      "True response: 0\n",
      "\n",
      "-----------------------\n",
      "\n",
      "-- ('pain', '6XHA') --\n",
      "Prompt: Now suppose that the patient will not be in pain regardless of all other circumstances. With this new assumption, will lab 6XHA be elevated? Begin your response with True or False and be as concise as possible.\n",
      "True endogenous: {'pain': 0, '6XHA': 1, 'F4NB': 1, 'surgery': 0}\n",
      "True exogenous: {'HU5O': 0, '0OU4': 1, 'KEOW': 1, 'WQFS': 0}\n",
      "True response: 1\n",
      "\n",
      "-----------------------\n",
      "\n",
      "-- ('pain', 'F4NB') --\n",
      "Prompt: Now suppose that the patient will not be in pain regardless of all other circumstances. With this new assumption, will lab F4NB be low? Begin your response with True or False and be as concise as possible.\n",
      "True endogenous: {'pain': 0, '6XHA': 1, 'F4NB': 1, 'surgery': 0}\n",
      "True exogenous: {'HU5O': 0, '0OU4': 1, 'KEOW': 1, 'WQFS': 0}\n",
      "True response: 1\n",
      "\n",
      "-----------------------\n",
      "\n",
      "-- ('6XHA', 'F4NB') --\n",
      "Prompt: Now suppose that lab 6XHA will not be elevated regardless of all other circumstances. With this new assumption, will lab F4NB be low? Begin your response with True or False and be as concise as possible.\n",
      "True endogenous: {'pain': 0, '6XHA': 0, 'F4NB': 1, 'surgery': 0}\n",
      "True exogenous: {'HU5O': 0, '0OU4': 1, 'KEOW': 1, 'WQFS': 0}\n",
      "True response: 1\n",
      "\n",
      "-----------------------\n",
      "\n",
      "-- ('6XHA', 'surgery') --\n",
      "Prompt: Now suppose that lab 6XHA will not be elevated regardless of all other circumstances. With this new assumption, will the surgeon recommend surgery? Begin your response with True or False and be as concise as possible.\n",
      "True endogenous: {'pain': 0, '6XHA': 0, 'F4NB': 1, 'surgery': 0}\n",
      "True exogenous: {'HU5O': 0, '0OU4': 1, 'KEOW': 1, 'WQFS': 0}\n",
      "True response: 0\n",
      "\n",
      "-----------------------\n",
      "\n",
      "-- ('F4NB', 'surgery') --\n",
      "Prompt: Now suppose that lab F4NB will not be low regardless of all other circumstances. With this new assumption, will the surgeon recommend surgery? Begin your response with True or False and be as concise as possible.\n",
      "True endogenous: {'pain': 0, '6XHA': 1, 'F4NB': 0, 'surgery': 0}\n",
      "True exogenous: {'HU5O': 0, '0OU4': 1, 'KEOW': 1, 'WQFS': 0}\n",
      "True response: 0\n",
      "\n",
      "-----------------------\n"
     ]
    }
   ],
   "source": [
    "print(\"- Counterfactual queries (cause = False):\")\n",
    "for key,val in cf_0.items():\n",
    "    print(\"\\n-----------------------\")\n",
    "    print(\"\\n-- {} --\".format(key))\n",
    "    print(\"Prompt:\", val.get(\"Prompt\"))\n",
    "    print(\"True endogenous:\", val.get(\"True endogenous\"))\n",
    "    print(\"True exogenous:\", val.get(\"True exogenous\"))\n",
    "    print(\"True response:\", val.get(\"True response\"))\n",
    "print(\"\\n-----------------------\")"
   ]
  },
  {
   "cell_type": "code",
   "execution_count": 6,
   "id": "23a15ed0-a75e-4999-871e-681a4539b2fc",
   "metadata": {},
   "outputs": [
    {
     "data": {
      "text/html": [
       "<div>\n",
       "<style scoped>\n",
       "    .dataframe tbody tr th:only-of-type {\n",
       "        vertical-align: middle;\n",
       "    }\n",
       "\n",
       "    .dataframe tbody tr th {\n",
       "        vertical-align: top;\n",
       "    }\n",
       "\n",
       "    .dataframe thead th {\n",
       "        text-align: right;\n",
       "    }\n",
       "</style>\n",
       "<table border=\"1\" class=\"dataframe\">\n",
       "  <thead>\n",
       "    <tr style=\"text-align: right;\">\n",
       "      <th></th>\n",
       "      <th>pain</th>\n",
       "      <th>6XHA</th>\n",
       "      <th>F4NB</th>\n",
       "      <th>surgery</th>\n",
       "    </tr>\n",
       "  </thead>\n",
       "  <tbody>\n",
       "    <tr>\n",
       "      <th>0</th>\n",
       "      <td>1</td>\n",
       "      <td>1</td>\n",
       "      <td>1</td>\n",
       "      <td>0</td>\n",
       "    </tr>\n",
       "    <tr>\n",
       "      <th>1</th>\n",
       "      <td>1</td>\n",
       "      <td>1</td>\n",
       "      <td>1</td>\n",
       "      <td>0</td>\n",
       "    </tr>\n",
       "    <tr>\n",
       "      <th>2</th>\n",
       "      <td>0</td>\n",
       "      <td>0</td>\n",
       "      <td>0</td>\n",
       "      <td>0</td>\n",
       "    </tr>\n",
       "  </tbody>\n",
       "</table>\n",
       "</div>"
      ],
      "text/plain": [
       "   pain  6XHA  F4NB  surgery\n",
       "0     1     1     1        0\n",
       "1     1     1     1        0\n",
       "2     0     0     0        0"
      ]
     },
     "metadata": {},
     "output_type": "display_data"
    },
    {
     "data": {
      "text/html": [
       "<div>\n",
       "<style scoped>\n",
       "    .dataframe tbody tr th:only-of-type {\n",
       "        vertical-align: middle;\n",
       "    }\n",
       "\n",
       "    .dataframe tbody tr th {\n",
       "        vertical-align: top;\n",
       "    }\n",
       "\n",
       "    .dataframe thead th {\n",
       "        text-align: right;\n",
       "    }\n",
       "</style>\n",
       "<table border=\"1\" class=\"dataframe\">\n",
       "  <thead>\n",
       "    <tr style=\"text-align: right;\">\n",
       "      <th></th>\n",
       "      <th>HU5O</th>\n",
       "      <th>0OU4</th>\n",
       "      <th>KEOW</th>\n",
       "      <th>WQFS</th>\n",
       "    </tr>\n",
       "  </thead>\n",
       "  <tbody>\n",
       "    <tr>\n",
       "      <th>0</th>\n",
       "      <td>1</td>\n",
       "      <td>0</td>\n",
       "      <td>1</td>\n",
       "      <td>0</td>\n",
       "    </tr>\n",
       "    <tr>\n",
       "      <th>1</th>\n",
       "      <td>1</td>\n",
       "      <td>0</td>\n",
       "      <td>1</td>\n",
       "      <td>0</td>\n",
       "    </tr>\n",
       "    <tr>\n",
       "      <th>2</th>\n",
       "      <td>0</td>\n",
       "      <td>0</td>\n",
       "      <td>0</td>\n",
       "      <td>1</td>\n",
       "    </tr>\n",
       "  </tbody>\n",
       "</table>\n",
       "</div>"
      ],
      "text/plain": [
       "   HU5O  0OU4  KEOW  WQFS\n",
       "0     1     0     1     0\n",
       "1     1     0     1     0\n",
       "2     0     0     0     1"
      ]
     },
     "metadata": {},
     "output_type": "display_data"
    }
   ],
   "source": [
    "df_obs, df_noise = tg.sample_scm(n = 3,\n",
    "                                 intervene_node = None,\n",
    "                                 intervene_value = 0)\n",
    "display(df_obs.head())\n",
    "display(df_noise.head())"
   ]
  },
  {
   "cell_type": "code",
   "execution_count": null,
   "id": "de53cf7e-85b2-4580-9728-1a62e0bc678a",
   "metadata": {},
   "outputs": [],
   "source": []
  }
 ],
 "metadata": {
  "kernelspec": {
   "display_name": "ICP",
   "language": "python",
   "name": "icp"
  },
  "language_info": {
   "codemirror_mode": {
    "name": "ipython",
    "version": 3
   },
   "file_extension": ".py",
   "mimetype": "text/x-python",
   "name": "python",
   "nbconvert_exporter": "python",
   "pygments_lexer": "ipython3",
   "version": "3.10.13"
  }
 },
 "nbformat": 4,
 "nbformat_minor": 5
}
